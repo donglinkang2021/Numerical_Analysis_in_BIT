{
 "cells": [
  {
   "cell_type": "markdown",
   "metadata": {},
   "source": [
    "# 解线性方程组的直接法"
   ]
  },
  {
   "cell_type": "markdown",
   "metadata": {},
   "source": [
    "### 例1\n",
    "\n",
    "$$\n",
    "\\begin{cases}\n",
    "3x_1 + 2x_2 + 5x_3 = 6 \\\\\n",
    "-x_1 + 4x_2 + 3x_3 = 5 \\\\\n",
    "x_1 - x_2 + 3x_3 = 1\n",
    "\\end{cases}\n",
    "$$"
   ]
  },
  {
   "cell_type": "markdown",
   "metadata": {},
   "source": [
    "## 普通解法\n",
    "代码如下：\n",
    "\n",
    "```python\n",
    "import numpy as np\n",
    "A = np.array([[3, 2, 5], [-1, 4, 3], [1, -1, 3]])\n",
    "b = np.array([6, 5, 1])\n",
    "x = np.linalg.solve(A, b)\n",
    "print(x)\n",
    "```"
   ]
  },
  {
   "cell_type": "code",
   "execution_count": 5,
   "metadata": {},
   "outputs": [
    {
     "name": "stdout",
     "output_type": "stream",
     "text": [
      "[0.5 1.  0.5]\n"
     ]
    }
   ],
   "source": [
    "import numpy as np\n",
    "A = np.array([[3, 2, 5], [-1, 4, 3], [1, -1, 3]])\n",
    "b = np.array([6, 5, 1])\n",
    "x = np.linalg.solve(A, b)\n",
    "print(x)"
   ]
  },
  {
   "cell_type": "markdown",
   "metadata": {},
   "source": [
    "## 高斯若尔当消元法\n",
    "\n",
    "> 高斯若尔当消元法是一种解线性方程组的方法，它是一种直接法，即不需要迭代求解，而是直接求解。高斯若尔当消元法的基本思想是将线性方程组转化为一个上三角矩阵，然后逐个求解。\n",
    "\n",
    "<!-- 数学公式 -->\n",
    "\n",
    "$$\n",
    "\\begin{cases}\n",
    "3x_1 + 2x_2 + 5x_3 = 6 \\\\\n",
    "-x_1 + 4x_2 + 3x_3 = 5 \\\\\n",
    "x_1 - x_2 + 3x_3 = 1\n",
    "\\end{cases}\n",
    "$$\n",
    "\n",
    "\n",
    "对于上面的例子，我们可以将其转化为增广矩阵：\n",
    "\n",
    "$$\n",
    "\\begin{bmatrix}\n",
    "3 & 2 & 5 & 6 \\\\\n",
    "-1 & 4 & 3 & 5 \\\\\n",
    "1 & -1 & 3 & 1\n",
    "\\end{bmatrix}\n",
    "$$\n",
    "\n",
    "然后进行初等行变换，得到：\n",
    "\n",
    "$$\n",
    "\\begin{bmatrix}\n",
    "3 & 2 & 5 & 6 \\\\\n",
    "0 & 14 & 14 & 21 \\\\\n",
    "0 & 5 & -4 & 3\n",
    "\\end{bmatrix}\n",
    "\\dots \\text{第一步} \\\\\n",
    "$$\n",
    "\n",
    "$$\n",
    "\\begin{bmatrix}\n",
    "3 & 2 & 5 & 6 \\\\\n",
    "0 & 14 & 14 & 21 \\\\\n",
    "0 & 0 & 2 & 1\n",
    "\\end{bmatrix}\n",
    "\\dots \\text{第二步}\\\\\n",
    "$$\n",
    "\n",
    "最后利用回代法求解，得到：\n",
    "\n",
    "$$\n",
    "\\begin{cases}\n",
    "x_3 = \\frac{1}{2} \\\\\n",
    "x_2 = \\frac{21 - 14 * x_3}{14} \\\\\n",
    "x_1 = \\frac{6 - 2 * x_2 - 5 * x_3}{3} \\\\\n",
    "\\end{cases}\n",
    "\\Rightarrow\n",
    "\\begin{cases}\n",
    "x_3 = 0.5 \\\\\n",
    "x_2 = 1     \\\\\n",
    "x_1 = 0.5   \\\\\n",
    "\\end{cases}\n",
    "$$\n"
   ]
  },
  {
   "cell_type": "code",
   "execution_count": 68,
   "metadata": {},
   "outputs": [
    {
     "data": {
      "text/plain": [
       "array([0.5, 1. , 0.5])"
      ]
     },
     "execution_count": 68,
     "metadata": {},
     "output_type": "execute_result"
    }
   ],
   "source": [
    "import numpy as np\n",
    "\n",
    "# 高斯消去法\n",
    "def gaussElimination(A, b):\n",
    "    n = len(b)\n",
    "    # 前進消去\n",
    "    for k in range(0, n-1):  # 举例第一列 k = 0\n",
    "        factor = A[k, k] / A[k+1:, k] # 求出之后每一行的系数\n",
    "        A[k+1:, :] = A[k, :] - factor[:,np.newaxis] * A[k+1:, :]  #更新之后每一行 np.newaxis的作用是增加一个维度 (2,1)\n",
    "        b[k+1:] = b[k, :] - factor[:,np.newaxis] * b[k+1:, :]  #更新之后每一行的b\n",
    "\n",
    "    # 回代\n",
    "    x = np.zeros(n)\n",
    "    x[n-1] = b[n-1] / A[n-1, n-1]\n",
    "    for k in range(n-2, -1, -1):\n",
    "        x[k] = (b[k] - np.dot(A[k, k+1:], x[k+1:])) / A[k, k]\n",
    "    return x\n",
    "\n",
    "A = np.array([[3, 2, 5], [-1, 4, 3], [1, -1, 3]], dtype=float)\n",
    "b = np.array([[6, 5, 1]], dtype=float)\n",
    "b = b.T\n",
    "gaussElimination(A, b)"
   ]
  },
  {
   "cell_type": "markdown",
   "metadata": {},
   "source": [
    "随机测试一个方程组\n",
    "\n",
    "<!-- 数学公式 -->\n",
    "\n",
    "$$\n",
    "\\begin{cases}\n",
    "-23x_1 + 11x_2 + x_3 = 0 \\\\\n",
    "11x_1 - 3x_2 - 2x_3 = 3 \\\\\n",
    "x_1 - 2x_2 + 2x_3 = -1\n",
    "\\end{cases}\n",
    "$$\n"
   ]
  },
  {
   "cell_type": "code",
   "execution_count": 69,
   "metadata": {},
   "outputs": [
    {
     "data": {
      "text/plain": [
       "array([1., 2., 1.])"
      ]
     },
     "execution_count": 69,
     "metadata": {},
     "output_type": "execute_result"
    }
   ],
   "source": [
    "A1 = np.array([[-23, 11 , 1], [11, -3, -2], [1, -2, 2]], dtype=float)\n",
    "b1 = np.array([[0, 3, -1]], dtype=float)\n",
    "b1 = b1.T\n",
    "gaussElimination(A1, b1)"
   ]
  },
  {
   "cell_type": "markdown",
   "metadata": {},
   "source": [
    "### 逐步求解代码如下"
   ]
  },
  {
   "cell_type": "code",
   "execution_count": 64,
   "metadata": {},
   "outputs": [],
   "source": [
    "A = np.array([[3, 2, 5], [-1, 4, 3], [1, -1, 3]], dtype=float)\n",
    "b = np.array([[6, 5, 1]], dtype=float)\n",
    "# 装置b\n",
    "b = b.T\n",
    "tmp_f=A[0,0]/A[1:,0] # [-3.  3.]\n",
    "A[1:,:] = A[0,:] - tmp_f[:,np.newaxis] * A[1:,:] # A = [[ 3.  2.  5.][ 0.  14.  14.][ 0.  5.  -4.]]\n",
    "b[1:,:] = b[0,:] - tmp_f[:,np.newaxis] * b[1:,:] # b = [[ 6.][ 21.][ 3.]]"
   ]
  },
  {
   "cell_type": "code",
   "execution_count": 65,
   "metadata": {},
   "outputs": [],
   "source": [
    "tmp_f1=A[1,1]/A[2:,1]\n",
    "A[2:,:] = A[1,:] - tmp_f1[:,np.newaxis] * A[2:,:] # A = [[ 3.  2.  5.][ 0.  14.  14.][ 0.  0.  25.2]]\n",
    "b[2:,:] = b[1,:] - tmp_f1[:,np.newaxis] * b[2:,:] # b = [[ 6.][ 21.][ 12.6]]"
   ]
  },
  {
   "cell_type": "code",
   "execution_count": 66,
   "metadata": {},
   "outputs": [
    {
     "name": "stdout",
     "output_type": "stream",
     "text": [
      "[[0.5]\n",
      " [1. ]\n",
      " [0.5]]\n"
     ]
    }
   ],
   "source": [
    "# 回代\n",
    "x = np.zeros((3,1))\n",
    "x[2,0] = b[2,0]/A[2,2] # x = [[ 0.][ 0.][ 0.5]]\n",
    "x[1,0] = (b[1,0] - A[1,2]*x[2,0])/A[1,1] # x = [[ 0.][ 1.][ 0.5]]\n",
    "x[0,0] = (b[0,0] - A[0,1]*x[1,0] - A[0,2]*x[2,0])/A[0,0] # x = [[ 0.5][ 1.][ 0.5]]\n",
    "print(x)"
   ]
  },
  {
   "cell_type": "code",
   "execution_count": 44,
   "metadata": {},
   "outputs": [
    {
     "name": "stdout",
     "output_type": "stream",
     "text": [
      "25.2\n",
      "12.600000000000001\n",
      "0.5000000000000001\n"
     ]
    }
   ],
   "source": [
    "print((-4)*(-2.8) + 14)\n",
    "tmpa = (-4)*(-2.8) + 14\n",
    "print(3*(-2.8) + 21)\n",
    "tmpb = 3*(-2.8) + 21\n",
    "print(tmpb/tmpa)"
   ]
  },
  {
   "cell_type": "markdown",
   "metadata": {},
   "source": [
    "### 所需前置numpy知识"
   ]
  },
  {
   "cell_type": "markdown",
   "metadata": {},
   "source": [
    "### 索引的用处"
   ]
  },
  {
   "cell_type": "code",
   "execution_count": 4,
   "metadata": {},
   "outputs": [],
   "source": [
    "# demo 重新理解numpy的一些操作\n",
    "import numpy as np\n",
    "A = np.array([[3, 2, 5], [-1, 4, 3], [1, -1, 3]])"
   ]
  },
  {
   "cell_type": "code",
   "execution_count": 12,
   "metadata": {},
   "outputs": [
    {
     "name": "stdout",
     "output_type": "stream",
     "text": [
      "2\n",
      "()\n",
      "0\n",
      "1\n",
      "int32\n",
      "4\n",
      "4\n",
      "[[ 3  2]\n",
      " [-1  4]]\n",
      "(2, 2)\n",
      "4\n",
      "2\n",
      "int32\n",
      "4\n",
      "16\n"
     ]
    }
   ],
   "source": [
    "# 学习\n",
    "print(A[0, 1]) # 第一个参数是行，第二个参数是列\n",
    "print(A[0, 1].shape) # ()\n",
    "print(A[0, 1].size) # 1\n",
    "print(A[0, 1].ndim) # 0\n",
    "print(A[0, 1].dtype) # int32\n",
    "print(A[0, 1].itemsize) # 4\n",
    "print(A[0, 1].nbytes) # 4\n",
    "\n",
    "print(A[0:2, 0:2]) # 第一个参数是行，第二个参数是列，这里是取前两行，前两列 [[3 2] [-1 4]]\n",
    "print(A[0:2, 0:2].shape) # shape是一个元组，表示矩阵的行数和列数 (2, 2)\n",
    "print(A[0:2, 0:2].size) # size是一个整数，表示矩阵的元素个数 4\n",
    "print(A[0:2, 0:2].ndim) # ndim是一个整数，表示矩阵的维数 2\n",
    "print(A[0:2, 0:2].dtype) # dtype是一个对象，表示矩阵的数据类型 int32\n",
    "print(A[0:2, 0:2].itemsize) # itemsize是一个整数，表示矩阵中每个元素的字节数 4\n",
    "print(A[0:2, 0:2].nbytes) # nbytes是一个整数，表示矩阵中所有元素的字节数 16\n",
    "\n"
   ]
  },
  {
   "cell_type": "markdown",
   "metadata": {},
   "source": [
    "## 例2\n",
    "\n",
    "$$\n",
    "\\begin{cases}\n",
    "3x_1 - x_2 + 4x_3 = 7 \\\\\n",
    "-x_1 + 2x_2 - 2x_3 = -1 \\\\\n",
    "2x_1 - 3x_2 - 2x_3 = 0\n",
    "\\end{cases}\n",
    "$$\n",
    "\n",
    "## 普通解法\n",
    "\n",
    "代码如下：\n",
    "\n",
    "```python\n",
    "import numpy as np\n",
    "A = np.array([[3, -1, 4], [-1, 2, -2], [2, -3, -2]])\n",
    "b = np.array([7, -1, 0])\n",
    "x = np.linalg.solve(A, b)\n",
    "print(x)\n",
    "```"
   ]
  },
  {
   "cell_type": "code",
   "execution_count": 70,
   "metadata": {},
   "outputs": [
    {
     "name": "stdout",
     "output_type": "stream",
     "text": [
      "[2.  1.  0.5]\n"
     ]
    }
   ],
   "source": [
    "# 普通解法先确定结果\n",
    "import numpy as np\n",
    "A = np.array([[3, -1, 4], [-1, 2, -2], [2, -3, -2]])\n",
    "b = np.array([7, -1, 0])\n",
    "x = np.linalg.solve(A, b)\n",
    "print(x)"
   ]
  },
  {
   "cell_type": "code",
   "execution_count": 72,
   "metadata": {},
   "outputs": [
    {
     "data": {
      "text/plain": [
       "array([2. , 1. , 0.5])"
      ]
     },
     "execution_count": 72,
     "metadata": {},
     "output_type": "execute_result"
    }
   ],
   "source": [
    "# 高斯若儿当消元法验证\n",
    "import numpy as np\n",
    "A = np.array([[3, -1, 4], [-1, 2, -2], [2, -3, -2]], dtype=float)\n",
    "b = np.array([[7, -1, 0]], dtype=float)\n",
    "b = b.T\n",
    "gaussElimination(A, b)"
   ]
  },
  {
   "cell_type": "markdown",
   "metadata": {},
   "source": [
    "## 高斯消元法与克劳特消元法\n",
    "\n",
    "<!-- 数学公式 -->\n",
    "\n",
    "$$\n",
    "\\begin{cases}\n",
    "3x_1 - x_2 + 4x_3 = 7 \\\\\n",
    "-x_1 + 2x_2 - 2x_3 = -1 \\\\\n",
    "2x_1 - 3x_2 - 2x_3 = 0\n",
    "\\end{cases}\n",
    "$$\n",
    "\n",
    "相比于高斯消元法，克劳特消元法的基本思想其实也差不多，前者是保证L矩阵的对角线元素为1，而后者是保证U矩阵的对角线元素为1。\n",
    "\n",
    "对于上面的例子，我们可以将其转化为增广矩阵：\n",
    "\n",
    "$$\n",
    "\\begin{bmatrix}\n",
    "3 & -1 & 4 & 7 \\\\\n",
    "-1 & 2 & -2 & -1 \\\\\n",
    "2 & -3 & -2 & 0\n",
    "\\end{bmatrix}\n",
    "$$\n",
    "\n",
    "\n",
    "> 对于为什么要进行LU分解，一开始自己也不是很理解，但其实就是将方程组转化为两个方程组，然后分别求解，最后再合并，这样就可以避免矩阵的逆运算，从而提高计算效率。\n",
    "\n",
    "这里权当复习整理数值分析里的知识，重新写一下LU分解的过程。"
   ]
  },
  {
   "cell_type": "markdown",
   "metadata": {},
   "source": [
    "### 高斯消元法\n",
    "\n",
    "我们实际上是将$AX = B$中的$A$分解为$LU$，其中$U$是一个上三角矩阵，$L$是一个下三角矩阵，$L$的对角线元素都是1，\n",
    "\n",
    "$$\n",
    "A = LU\n",
    "$$\n",
    "\n",
    "$$\n",
    "\\begin{bmatrix}\n",
    "3 & -1 & 4 \\\\\n",
    "-1 & 2 & -2 \\\\\n",
    "2 & -3 & -2\n",
    "\\end{bmatrix}\n",
    "=\n",
    "\\begin{bmatrix}\n",
    "1 & 0 & 0 \\\\\n",
    "-\\frac{1}{3} & 1 & 0 \\\\\n",
    "\\frac{2}{3} & -1.4 & 1\n",
    "\\end{bmatrix}\n",
    "\\begin{bmatrix}\n",
    "3 & -1 & 4 \\\\\n",
    "0 & \\frac{5}{3} & -\\frac{2}{3} \\\\\n",
    "0 & 0 & -5.6\n",
    "\\end{bmatrix}\n",
    "$$\n",
    "\n"
   ]
  },
  {
   "cell_type": "code",
   "execution_count": 84,
   "metadata": {},
   "outputs": [],
   "source": [
    "import numpy as np\n",
    "A = np.array([[3, -1, 4], [-1, 2, -2], [2, -3, -2]], dtype=float)\n",
    "b = np.array([[7, -1, 0]], dtype=float)\n",
    "b = b.T"
   ]
  },
  {
   "cell_type": "code",
   "execution_count": 87,
   "metadata": {},
   "outputs": [
    {
     "name": "stdout",
     "output_type": "stream",
     "text": [
      "LU分解：\n",
      "A = LU\n",
      "L = \n",
      "[[ 1.          0.          0.        ]\n",
      " [-0.33333333  1.          0.        ]\n",
      " [ 0.66666667 -1.4         1.        ]]\n",
      "其中我们有：Ly = b，解得\n",
      "y = \n",
      "[[ 7.        ]\n",
      " [ 1.33333333]\n",
      " [-2.8       ]]\n",
      "U = \n",
      "[[ 3.         -1.          4.        ]\n",
      " [ 0.          1.66666667 -0.66666667]\n",
      " [ 0.          0.         -5.6       ]]\n",
      "其中我们有：Ux = y，解得\n",
      "x = \n",
      "[[2. ]\n",
      " [1. ]\n",
      " [0.5]]\n"
     ]
    }
   ],
   "source": [
    "# 高斯消元法\n",
    "def gauss(A, b,isprint = True):\n",
    "    n = A.shape[0]\n",
    "    L = np.zeros((n, n))\n",
    "    U = np.zeros((n, n))\n",
    "    for i in range(n):\n",
    "        L[i, i] = 1\n",
    "        for j in range(i, n):\n",
    "            U[i, j] = A[i, j] - L[i, :i] @ U[:i, j] # @表示矩阵乘法\n",
    "        for j in range(i+1, n):\n",
    "            L[j, i] = (A[j, i] - L[j, :i] @ U[:i, i])/U[i, i]\n",
    "    y = np.linalg.solve(L, b)\n",
    "    x = np.linalg.solve(U, y)\n",
    "    if isprint:\n",
    "        # 输出解方程的过程\n",
    "        print(\"LU分解：\")\n",
    "        print(\"A = LU\")\n",
    "        print(\"L = \")\n",
    "        print(L)\n",
    "        print(\"其中我们有：Ly = b，解得\")\n",
    "        print(\"y = \")\n",
    "        print(y)\n",
    "        print(\"U = \")\n",
    "        print(U)\n",
    "        print(\"其中我们有：Ux = y，解得\")\n",
    "        print(\"x = \")\n",
    "        print(x)\n",
    "    return x\n",
    "\n",
    "x = gauss(A, b)"
   ]
  },
  {
   "cell_type": "markdown",
   "metadata": {},
   "source": [
    "### 克劳特消元法\n"
   ]
  },
  {
   "cell_type": "code",
   "execution_count": 1,
   "metadata": {},
   "outputs": [],
   "source": [
    "import numpy as np\n",
    "A = np.array([[3, -1, 4], [-1, 2, -2], [2, -3, -2]], dtype=float)\n",
    "b = np.array([[7, -1, 0]], dtype=float)\n",
    "b = b.T"
   ]
  },
  {
   "cell_type": "code",
   "execution_count": 4,
   "metadata": {},
   "outputs": [
    {
     "name": "stdout",
     "output_type": "stream",
     "text": [
      "LU分解：\n",
      "A = LU\n",
      "L = \n",
      "[[ 3.          0.          0.        ]\n",
      " [-1.          1.66666667  0.        ]\n",
      " [ 2.         -2.33333333 -5.6       ]]\n",
      "其中我们有：Ly = b，解得\n",
      "y = \n",
      "[[2.33333333]\n",
      " [0.8       ]\n",
      " [0.5       ]]\n",
      "U = \n",
      "[[ 1.         -0.33333333  1.33333333]\n",
      " [ 0.          1.         -0.4       ]\n",
      " [ 0.          0.          1.        ]]\n",
      "其中我们有：Ux = y，解得\n",
      "x = \n",
      "[[2. ]\n",
      " [1. ]\n",
      " [0.5]]\n"
     ]
    }
   ],
   "source": [
    "def crout(A, b,isprint = True):\n",
    "    n = A.shape[0]\n",
    "    L = np.zeros((n, n))\n",
    "    U = np.zeros((n, n))\n",
    "    for i in range(n):\n",
    "        L[i, i] = A[i, i] - L[i, :i] @ U[:i, i]\n",
    "        for j in range(i, n):\n",
    "            U[i, j] = (A[i, j] - L[i, :i] @ U[:i, j])/L[i, i]\n",
    "        for j in range(i, n):\n",
    "            L[j, i] = (A[j, i] - L[j, :i] @ U[:i, i])\n",
    "    y = np.linalg.solve(L, b)\n",
    "    x = np.linalg.solve(U, y)\n",
    "    if isprint:\n",
    "        # 输出解方程的过程\n",
    "        print(\"LU分解：\")\n",
    "        print(\"A = LU\")\n",
    "        print(\"L = \")\n",
    "        print(L)\n",
    "        print(\"其中我们有：Ly = b，解得\")\n",
    "        print(\"y = \")\n",
    "        print(y)\n",
    "        print(\"U = \")\n",
    "        print(U)\n",
    "        print(\"其中我们有：Ux = y，解得\")\n",
    "        print(\"x = \")\n",
    "        print(x)\n",
    "    return x\n",
    "\n",
    "x = crout(A, b)"
   ]
  },
  {
   "cell_type": "markdown",
   "metadata": {},
   "source": [
    "### 补充知识"
   ]
  },
  {
   "cell_type": "markdown",
   "metadata": {},
   "source": [
    "#### LU分解\n",
    "\n",
    "设有线性方程组\n",
    "\n",
    "$$\n",
    "Ax = b\n",
    "$$\n",
    "\n",
    "其中，$A$为$n \\times n$的矩阵，$b$为$n$维列向量，$x$为$n$维列向量。举个具体例子：\n",
    "\n",
    "$$\n",
    "\\begin{cases}\n",
    "a_{11}x_1 + a_{12}x_2 +  a_{13}x_3 = b_1 \\\\\n",
    "a_{21}x_1 + a_{22}x_2 +  a_{23}x_3 = b_2 \\\\\n",
    "a_{31}x_1 + a_{32}x_2 +  a_{33}x_3 = b_3\n",
    "\\end{cases}\n",
    "$$\n",
    "\n",
    "其中，$a_{ij}$为矩阵$A$的元素，$b_i$为列向量$b$的元素，$x_i$为列向量$x$的元素。也即：\n",
    "\n",
    "$$\n",
    "\\begin{bmatrix}\n",
    "a_{11} & a_{12} & a_{13} \\\\\n",
    "a_{21} & a_{22} & a_{23} \\\\\n",
    "a_{31} & a_{32} & a_{33}\n",
    "\\end{bmatrix}\n",
    "\\begin{bmatrix}\n",
    "x_1 \\\\\n",
    "x_2 \\\\\n",
    "x_3\n",
    "\\end{bmatrix}\n",
    "=\n",
    "\\begin{bmatrix}\n",
    "b_1 \\\\\n",
    "b_2 \\\\\n",
    "b_3\n",
    "\\end{bmatrix}\n",
    "$$\n",
    "\n",
    "首先，对于第一个方程，我们选取一个常数$l_{11}$遍除第一行，得到：\n",
    "\n",
    "$$\n",
    "\\frac{a_{11}}{l_{11}}x_1 + \\frac{a_{12}}{l_{11}}x_2 +  \\frac{a_{13}}{l_{11}}x_3 = \\frac{b_1}{l_{11}}\n",
    "$$\n",
    "\n",
    "对于上式，我们令\n",
    "\n",
    "$$\n",
    "\\begin{bmatrix}\n",
    "\\frac{a_{11}}{l_{11}} & \\frac{a_{12}}{l_{11}} & \\frac{a_{13}}{l_{11}} \\\\\n",
    "\\end{bmatrix}\n",
    "\\begin{bmatrix}\n",
    "x_1 \\\\\n",
    "x_2 \\\\\n",
    "x_3\n",
    "\\end{bmatrix}\n",
    "=\n",
    "\\begin{bmatrix}\n",
    "\\frac{b_1}{l_{11}} \\\\\n",
    "\\end{bmatrix}\n",
    "\\\\ \\Rightarrow\n",
    "\\begin{bmatrix}\n",
    "u_{11} & u_{12} & u_{13} \\\\\n",
    "\\end{bmatrix}\n",
    "\\begin{bmatrix}\n",
    "x_1 \\\\\n",
    "x_2 \\\\\n",
    "x_3\n",
    "\\end{bmatrix}\n",
    "=\n",
    "\\begin{bmatrix}\n",
    "y_1 \\\\\n",
    "\\end{bmatrix}\n",
    "$$\n",
    "\n",
    "其中，$u_{ij}$为矩阵$U$的元素，$y_i$为列向量$y$的元素(待会也会求解它)。\n",
    "\n",
    "接下来，我们对第二个方程和第三个方程进行第一步的消元，令$l_{21} = \\frac{a_{21}}{u_{11}} \\quad l_{31} = \\frac{a_{31}}{u_{11}}$\n",
    "\n",
    "$$\n",
    "\\begin{bmatrix}\n",
    "a_{21} & a_{22} & a_{23} & b_2 \\\\\n",
    "a_{31} & a_{32} & a_{33} & b_3\n",
    "\\end{bmatrix}\n",
    "-\n",
    "\\begin{bmatrix}\n",
    "l_{21} \\\\\n",
    "l_{31} \n",
    "\\end{bmatrix}\n",
    "\\begin{bmatrix}\n",
    "u_{11} & u_{12} & u_{13} & y_1 \\\\\n",
    "\\end{bmatrix}\n",
    "=\n",
    "\\begin{bmatrix}\n",
    "0 & a_{22} - l_{21}u_{12} & a_{23} - l_{21}u_{13} & b_2 - l_{21}y_1 \\\\\n",
    "0 & a_{32} - l_{31}u_{12} & a_{33} - l_{31}u_{13} & b_3 - l_{31}y_1\n",
    "\\end{bmatrix}\n",
    "$$\n",
    "\n",
    "> 注意：\n",
    "> - 这里的$y_1$是减去上面求解的$y_1$即可\n",
    "> - 另外上面可以看到一个很有趣的地方，就是l和u的下标，比如$a_{23} - l_{21}u_{13}$把$l_{21}u_{13}$中的1去掉我们就得到了$a_{23}$的下标，这刚好又是我们当前操作元素的位置；\n",
    "\n",
    "对于等式右边的矩阵（我们重新写成方程的形式，下面对它继续进行消元工作），\n",
    "\n",
    "$$\n",
    "\\begin{cases}\n",
    "(a_{22} - l_{21}u_{12})x_2 + (a_{23} - l_{21}u_{13})x_3 = b_2 - l_{21}y_1 \\\\\n",
    "(a_{32} - l_{31}u_{12})x_2 + (a_{33} - l_{31}u_{13})x_3 = b_3 - l_{31}y_1\n",
    "\\end{cases}\n",
    "$$\n",
    "\n",
    "\n",
    "我们选取第二个常数$l_{22}$遍除第一行，得到：\n",
    "\n",
    "$$\n",
    "\\begin{bmatrix}\n",
    "0 & \\frac{a_{22} - l_{21}u_{12}}{l_{22}} & \\frac{a_{23} - l_{21}u_{13}}{l_{22}}\\\\\n",
    "\\end{bmatrix}\n",
    "\\begin{bmatrix}\n",
    "x_1 \\\\\n",
    "x_2 \\\\\n",
    "x_3\n",
    "\\end{bmatrix}\n",
    "=\n",
    "\\begin{bmatrix}\n",
    "\\frac{b_2 - l_{21}y_1}{l_{22}} \\\\\n",
    "\\end{bmatrix}\n",
    "\\\\ \\Rightarrow\n",
    "\\begin{bmatrix}\n",
    "0 & u_{22} & u_{23} \\\\\n",
    "\\end{bmatrix}\n",
    "\\begin{bmatrix}\n",
    "x_1 \\\\\n",
    "x_2 \\\\\n",
    "x_3\n",
    "\\end{bmatrix}\n",
    "=\n",
    "\\begin{bmatrix}\n",
    "y_2 \\\\\n",
    "\\end{bmatrix}\n",
    "$$\n",
    "\n",
    "继续对第三个方程进行消元，令$l_{32} = \\frac{a_{32} - l_{31}u_{12}}{u_{22}}$\n",
    "\n",
    "$$\n",
    "\\begin{align}\n",
    "    &\\begin{bmatrix}\n",
    "    0 & a_{32} - l_{31}u_{12} & a_{33} - l_{31}u_{13} & b_3 - l_{31}y_1\n",
    "    \\end{bmatrix}\n",
    "    -\n",
    "    \\begin{bmatrix}\n",
    "    l_{32}\n",
    "    \\end{bmatrix}\n",
    "    \\begin{bmatrix}\n",
    "    0 & u_{22} & u_{23} & y_2\n",
    "    \\end{bmatrix}\\\\\n",
    "    =\n",
    "    &\\begin{bmatrix}\n",
    "    0 & 0 & a_{33} - l_{31}u_{13} - l_{32}u_{23} & b_3 - l_{31}y_1 - l_{32}y_2\n",
    "    \\end{bmatrix}\n",
    "\\end{align}\n",
    "$$\n",
    "\n",
    "对于等式右边的矩阵，我们选取第三个常数$l_{33}$遍除第一行，最终得到：\n",
    "\n",
    "$$\n",
    "\\begin{bmatrix}\n",
    "0 & 0 & \\frac{a_{33} - l_{31}u_{13} - l_{32}u_{23}}{l_{33}}\\\\\n",
    "\\end{bmatrix}\n",
    "\\begin{bmatrix}\n",
    "x_1 \\\\\n",
    "x_2 \\\\\n",
    "x_3\n",
    "\\end{bmatrix}\n",
    "=\n",
    "\\begin{bmatrix}\n",
    "\\frac{b_3 - l_{31}y_1 - l_{32}y_2}{l_{33}} \\\\\n",
    "\\end{bmatrix}\n",
    "\\\\ \\Rightarrow\n",
    "\\begin{bmatrix}\n",
    "0 & 0 & u_{33} \\\\\n",
    "\\end{bmatrix}\n",
    "\\begin{bmatrix}\n",
    "x_1 \\\\\n",
    "x_2 \\\\\n",
    "x_3\n",
    "\\end{bmatrix}\n",
    "=\n",
    "\\begin{bmatrix}\n",
    "y_3 \\\\\n",
    "\\end{bmatrix}\n",
    "$$\n",
    "\n",
    "至此，我们按照消元的一定顺序步骤，得到了$u$和$l$矩阵，也得到了如下的方程组（矩阵形式）：\n",
    "\n",
    "\n",
    "$$\n",
    "\\begin{bmatrix}\n",
    "a_{11} & a_{12} & a_{13} \\\\\n",
    "a_{21} & a_{22} & a_{23} \\\\\n",
    "a_{31} & a_{32} & a_{33}\n",
    "\\end{bmatrix}\n",
    "\\begin{bmatrix}\n",
    "x_1 \\\\\n",
    "x_2 \\\\\n",
    "x_3\n",
    "\\end{bmatrix}\n",
    "=\n",
    "\\begin{bmatrix} \n",
    "b_1 \\\\\n",
    "b_2 \\\\\n",
    "b_3\n",
    "\\end{bmatrix}\n",
    "\\\\ \\Rightarrow\n",
    "\\begin{bmatrix}\n",
    "l_{11} & 0 & 0 \\\\\n",
    "l_{21} & l_{22} & 0 \\\\\n",
    "l_{31} & l_{32} & l_{33}\n",
    "\\end{bmatrix}\n",
    "\\begin{bmatrix}\n",
    "u_{11} & u_{12} & u_{13} \\\\\n",
    "0 & u_{22} & u_{23} \\\\\n",
    "0 & 0 & u_{33}\n",
    "\\end{bmatrix}\n",
    "\\begin{bmatrix}\n",
    "x_1 \\\\\n",
    "x_2 \\\\\n",
    "x_3\n",
    "\\end{bmatrix}\n",
    "=\n",
    "\\begin{bmatrix}\n",
    "b_1 \\\\\n",
    "b_2 \\\\\n",
    "b_3\n",
    "\\end{bmatrix}\n",
    "\\\\ \\Rightarrow\n",
    "\\begin{bmatrix}\n",
    "l_{11} & 0 & 0 \\\\\n",
    "l_{21} & l_{22} & 0 \\\\\n",
    "l_{31} & l_{32} & l_{33}\n",
    "\\end{bmatrix}\n",
    "\\begin{bmatrix}\n",
    "y_1 \\\\\n",
    "y_2 \\\\\n",
    "y_3\n",
    "\\end{bmatrix}\n",
    "=\n",
    "\\begin{bmatrix}\n",
    "b_1 \\\\\n",
    "b_2 \\\\\n",
    "b_3\n",
    "\\end{bmatrix}\n",
    "\\quad\n",
    "\\begin{bmatrix}\n",
    "u_{11} & u_{12} & u_{13} \\\\\n",
    "0 & u_{22} & u_{23} \\\\\n",
    "0 & 0 & u_{33}\n",
    "\\end{bmatrix}\n",
    "\\begin{bmatrix}\n",
    "x_1 \\\\\n",
    "x_2 \\\\\n",
    "x_3\n",
    "\\end{bmatrix}\n",
    "=\n",
    "\\begin{bmatrix}\n",
    "y_1 \\\\\n",
    "y_2 \\\\\n",
    "y_3\n",
    "\\end{bmatrix}\n",
    "\\\\\n",
    "$$\n",
    "\n",
    "简洁起见，我们统一将$u$矩阵记为$U$，将$l$矩阵记为$L$，则上述解方程的过程可以写为：\n",
    "\n",
    "$$\n",
    "Ax = b\n",
    "\\\\ \\Rightarrow\n",
    "LUx = b\n",
    "\\\\ \\Rightarrow\n",
    "Ly = b \\quad \\text{（回代法解出y）}\n",
    "\\\\ \\Rightarrow\n",
    "Ux = y \\quad \\text{（回代法解出x）}\n",
    "$$\n",
    "\n",
    "#### 代码实现"
   ]
  },
  {
   "cell_type": "code",
   "execution_count": 5,
   "metadata": {},
   "outputs": [],
   "source": [
    "import numpy as np\n",
    "\n",
    "def lu_decomposition(A):\n",
    "    \"\"\"\n",
    "    LU分解\n",
    "    :param A: 矩阵\n",
    "    :return: L, U\n",
    "    \"\"\"\n",
    "    n = A.shape[0]\n",
    "    L = np.zeros((n, n))\n",
    "    U = np.zeros((n, n))\n",
    "    for i in range(n):\n",
    "        for j in range(i, n):\n",
    "            U[i, j] = A[i, j] - np.dot(L[i, :i], U[:i, j])\n",
    "        for j in range(i, n):\n",
    "            if i == j:\n",
    "                L[i, i] = 1 # 这里的选定将决定是高斯消元法还是克劳特消元法\n",
    "            else:\n",
    "                L[j, i] = (A[j, i] - np.dot(L[j, :i], U[:i, i])) / U[i, i]\n",
    "    return L, U\n",
    "\n",
    "def forward_substitution(L, b):\n",
    "    \"\"\"\n",
    "    前代法求解Ly = b\n",
    "    :param L: 下三角矩阵\n",
    "    :param b: 常数向量\n",
    "    :return: y\n",
    "    \"\"\"\n",
    "    n = L.shape[0]\n",
    "    y = np.zeros(n)\n",
    "    for i in range(n):\n",
    "        y[i] = (b[i] - np.dot(L[i, :i], y[:i])) / L[i, i]\n",
    "    return y\n",
    "\n",
    "def backward_substitution(U, y):\n",
    "    \"\"\"\n",
    "    回代法求解Ux = y\n",
    "    :param U: 上三角矩阵\n",
    "    :param y: 常数向量\n",
    "    :return: x\n",
    "    \"\"\"\n",
    "    n = U.shape[0]\n",
    "    x = np.zeros(n)\n",
    "    for i in range(n - 1, -1, -1):\n",
    "        x[i] = (y[i] - np.dot(U[i, i + 1:], x[i + 1:])) / U[i, i]\n",
    "    return x\n",
    "\n",
    "def solve(A, b):\n",
    "    \"\"\"\n",
    "    求解Ax = b\n",
    "    :param A: 矩阵\n",
    "    :param b: 常数向量\n",
    "    :return: x\n",
    "    \"\"\"\n",
    "    L, U = lu_decomposition(A)\n",
    "    y = forward_substitution(L, b)\n",
    "    x = backward_substitution(U, y)\n",
    "    return x\n"
   ]
  },
  {
   "cell_type": "code",
   "execution_count": 27,
   "metadata": {},
   "outputs": [],
   "source": [
    "A = np.array([[3, -1, 4], [-1, 2, -2], [2, -3, -2]], dtype=float)\n",
    "b = np.array([7, -1, 0], dtype=float) # 注意：这里的b是一维数组，如果要写成矩阵形式即二维向量，需要转置一下"
   ]
  },
  {
   "cell_type": "code",
   "execution_count": 28,
   "metadata": {},
   "outputs": [
    {
     "data": {
      "text/plain": [
       "(array([[ 1.        ,  0.        ,  0.        ],\n",
       "        [-0.33333333,  1.        ,  0.        ],\n",
       "        [ 0.66666667, -1.4       ,  1.        ]]),\n",
       " array([[ 3.        , -1.        ,  4.        ],\n",
       "        [ 0.        ,  1.66666667, -0.66666667],\n",
       "        [ 0.        ,  0.        , -5.6       ]]))"
      ]
     },
     "execution_count": 28,
     "metadata": {},
     "output_type": "execute_result"
    }
   ],
   "source": [
    "lu_decomposition(A)"
   ]
  },
  {
   "cell_type": "code",
   "execution_count": 29,
   "metadata": {},
   "outputs": [
    {
     "name": "stdout",
     "output_type": "stream",
     "text": [
      "[2.  1.  0.5]\n"
     ]
    }
   ],
   "source": [
    "# b = b.T\n",
    "x = solve(A, b)\n",
    "print(x)"
   ]
  },
  {
   "cell_type": "code",
   "execution_count": 31,
   "metadata": {},
   "outputs": [
    {
     "name": "stdout",
     "output_type": "stream",
     "text": [
      "[[ 1.          0.          0.        ]\n",
      " [-0.33333333  1.          0.        ]\n",
      " [ 0.33333333 -0.35714286  1.        ]]\n",
      "[[3.         2.         5.        ]\n",
      " [0.         4.66666667 4.66666667]\n",
      " [0.         0.         3.        ]]\n",
      "[6.  7.  1.5]\n",
      "[0.5 1.  0.5]\n"
     ]
    }
   ],
   "source": [
    "A = np.array([[3, 2, 5], [-1, 4, 3], [1, -1, 3]])\n",
    "b = np.array([6, 5, 1])\n",
    "L,U = lu_decomposition(A)\n",
    "print(L)\n",
    "print(U)\n",
    "y = forward_substitution(L, b)\n",
    "print(y)\n",
    "x = backward_substitution(U, y)\n",
    "print(x)"
   ]
  },
  {
   "cell_type": "code",
   "execution_count": 32,
   "metadata": {},
   "outputs": [
    {
     "data": {
      "text/plain": [
       "-0.35714285714285715"
      ]
     },
     "execution_count": 32,
     "metadata": {},
     "output_type": "execute_result"
    }
   ],
   "source": [
    "-5/14"
   ]
  }
 ],
 "metadata": {
  "kernelspec": {
   "display_name": "Python 3 (ipykernel)",
   "language": "python",
   "name": "python3"
  },
  "language_info": {
   "codemirror_mode": {
    "name": "ipython",
    "version": 3
   },
   "file_extension": ".py",
   "mimetype": "text/x-python",
   "name": "python",
   "nbconvert_exporter": "python",
   "pygments_lexer": "ipython3",
   "version": "3.9.7"
  },
  "vscode": {
   "interpreter": {
    "hash": "5179d32cf6ec497baf3f8a3ef987cc77c5d2dc691fdde20a56316522f61a7323"
   }
  }
 },
 "nbformat": 4,
 "nbformat_minor": 2
}
