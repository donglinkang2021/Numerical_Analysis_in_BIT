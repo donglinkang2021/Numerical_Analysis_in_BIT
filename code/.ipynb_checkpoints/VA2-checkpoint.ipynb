{
 "cells": [
  {
   "cell_type": "markdown",
   "metadata": {},
   "source": [
    "# 埃特肯法求方程解"
   ]
  },
  {
   "cell_type": "code",
   "execution_count": 3,
   "metadata": {},
   "outputs": [],
   "source": [
    "import numpy as np\n",
    "import matplotlib.pyplot as plt\n"
   ]
  },
  {
   "cell_type": "code",
   "execution_count": 2,
   "metadata": {},
   "outputs": [],
   "source": [
    "def f(x):\n",
    "    return x**3 - x**2 - 1"
   ]
  },
  {
   "cell_type": "markdown",
   "metadata": {},
   "source": [
    "<!-- 构造迭代函数 -->\n",
    "\n",
    "## 构造迭代函数\n",
    "\n",
    "$$\n",
    "\\begin{aligned}\n",
    "x^{3} - x^{2} - 1 &= 0 \\\\\n",
    "x = \\sqrt{x^{3} - 1} \\\\\n",
    "\\end{aligned}\n",
    "\n",
    "\n",
    "$$\n",
    "\n",
    "令$\\varphi(x) = \\sqrt{x^{3} - 1}$为迭代公式\n"
   ]
  },
  {
   "cell_type": "code",
   "execution_count": 5,
   "metadata": {},
   "outputs": [],
   "source": [
    "def phi(x):\n",
    "    return (x**3 - 1)**(1/2)"
   ]
  },
  {
   "cell_type": "code",
   "execution_count": 20,
   "metadata": {},
   "outputs": [
    {
     "name": "stdout",
     "output_type": "stream",
     "text": [
      "1.465365431478883\n",
      "1.4655712202898679\n",
      "1.4655712318767682\n"
     ]
    }
   ],
   "source": [
    "x0 = 1.5 # 初始值\n",
    "while True:\n",
    "    x1 = phi(x0)\n",
    "    if abs(x1 - x0) < 1e-12:\n",
    "        break\n",
    "    x2 = phi(x1)\n",
    "    theta = (x2 - x1)/(x1 - x0)\n",
    "    x0 = (phi(x0) - theta * x0)/(1 - theta) \n",
    "    print(x0)\n"
   ]
  },
  {
   "cell_type": "markdown",
   "metadata": {},
   "source": [
    "## 选取其它迭代函数\n",
    "\n",
    "$$\n",
    "\\begin{aligned}\n",
    "x^{3} - x^{2} - 1 &= 0 \\\\\n",
    "x = {(x^{2} + 1)} ^ {\\frac{1}{3}} \\\\ \n",
    "\\end{aligned}\n",
    "$$\n",
    "\n",
    "令$\\psi(x) = {(x^{2} + 1)} ^ {\\frac{1}{3}}$为迭代公式 "
   ]
  },
  {
   "cell_type": "code",
   "execution_count": 17,
   "metadata": {},
   "outputs": [],
   "source": [
    "# define other iteration methods\n",
    "def psi(x):\n",
    "    return (x**2 + 1)**(1/3)"
   ]
  },
  {
   "cell_type": "code",
   "execution_count": 19,
   "metadata": {},
   "outputs": [
    {
     "name": "stdout",
     "output_type": "stream",
     "text": [
      "1.4655584829667796\n",
      "1.4655712318748688\n",
      "1.4655712318767682\n"
     ]
    }
   ],
   "source": [
    "x0 = 1.5 # 初始值\n",
    "while True:\n",
    "    x1 = psi(x0)\n",
    "    if abs(x1 - x0) < 1e-12:\n",
    "        break\n",
    "    x2 = psi(x1)\n",
    "    theta = (x2 - x1)/(x1 - x0)\n",
    "    x0 = (psi(x0) - theta * x0)/(1 - theta) \n",
    "    print(x0)"
   ]
  },
  {
   "cell_type": "markdown",
   "metadata": {},
   "source": [
    "我们可以看到，$\\varphi(x)$和 $\\psi(x)$ 的选取对迭代次数并没有明显的改善，个人认为应该是初值选取的太好了，导致迭代次数很少。下面我们来看一下不同初值的迭代次数。\n",
    "\n",
    "## 选取初值\n"
   ]
  },
  {
   "cell_type": "markdown",
   "metadata": {},
   "source": [
    "### 重新构造埃特肯 aitken函数"
   ]
  },
  {
   "cell_type": "code",
   "execution_count": 21,
   "metadata": {},
   "outputs": [],
   "source": [
    "# aitken method\n",
    "def aitken(x0, func = lambda x0 : x0 , eps = 1e-4 ,isprint=True):\n",
    "    x0 = 1.5 # 初始值\n",
    "    while True:\n",
    "        x1 = func(x0)\n",
    "        if abs(x1 - x0) < eps:\n",
    "            break\n",
    "        x2 = func(x1)\n",
    "        theta = (x2 - x1)/(x1 - x0)\n",
    "        x0 = (func(x0) - theta * x0)/(1 - theta) \n",
    "        print(x0)"
   ]
  },
  {
   "cell_type": "code",
   "execution_count": 23,
   "metadata": {},
   "outputs": [
    {
     "name": "stdout",
     "output_type": "stream",
     "text": [
      "1.465365431478883\n",
      "1.4655712202898679\n",
      "1.4655712318767682\n"
     ]
    }
   ],
   "source": [
    "aitken(1.5, phi, 1e-12)"
   ]
  },
  {
   "cell_type": "markdown",
   "metadata": {},
   "source": [
    "### 观察不同初值的迭代次数"
   ]
  },
  {
   "cell_type": "code",
   "execution_count": 33,
   "metadata": {},
   "outputs": [
    {
     "name": "stdout",
     "output_type": "stream",
     "text": [
      "1.4655584829667796\n",
      "1.4655712318748688\n",
      "1.4655712318767682\n"
     ]
    }
   ],
   "source": [
    "aitken(1, psi, 1e-12)"
   ]
  },
  {
   "cell_type": "code",
   "execution_count": 34,
   "metadata": {},
   "outputs": [
    {
     "name": "stdout",
     "output_type": "stream",
     "text": [
      "1.465365431478883\n",
      "1.4655712202898679\n",
      "1.4655712318767682\n"
     ]
    }
   ],
   "source": [
    "aitken(1, phi, 1e-12)"
   ]
  },
  {
   "cell_type": "markdown",
   "metadata": {},
   "source": [
    "## 更多迭代函数（free time~~~）"
   ]
  },
  {
   "cell_type": "markdown",
   "metadata": {},
   "source": [
    "<!-- 定义其它迭代函数看一下效果 -->\n",
    "$x^{3} - x^{2} - 1 = 0$经过简单的变换可以得到下面的迭代函数\n",
    "\n",
    "$$\n",
    "\\begin{aligned}\n",
    "x &= x^{2} - \\frac{1}{x} \\\\\n",
    "x &= \\frac{1}{(x - 1)^{\\frac{1}{2}}} \\\\\n",
    "x &= 1 + \\frac{1}{x^{2}} \\\\\n",
    "\\end{aligned}\n",
    "$$\n",
    "\n",
    "```python\n",
    "def f1(x):\n",
    "    return x**2 - 1/x\n",
    "def f2(x):\n",
    "    return 1/((x-1)**0.5)\n",
    "def f3(x):\n",
    "    return 1 + 1/x**2\n",
    "```"
   ]
  },
  {
   "cell_type": "code",
   "execution_count": 29,
   "metadata": {},
   "outputs": [],
   "source": [
    "def f1(x):\n",
    "    return x**2 - 1/x\n",
    "def f2(x):\n",
    "    return 1/((x-1)**0.5)\n",
    "def f3(x):\n",
    "    return 1 + 1/x**2"
   ]
  },
  {
   "cell_type": "code",
   "execution_count": 30,
   "metadata": {},
   "outputs": [
    {
     "name": "stdout",
     "output_type": "stream",
     "text": [
      "1.466725043782837\n",
      "1.4655725197594736\n",
      "1.465571231878372\n",
      "1.465571231876768\n"
     ]
    }
   ],
   "source": [
    "aitken(1, f1, 1e-12)"
   ]
  },
  {
   "cell_type": "code",
   "execution_count": 31,
   "metadata": {},
   "outputs": [
    {
     "name": "stdout",
     "output_type": "stream",
     "text": [
      "1.4673422863283745\n",
      "1.4655760852065471\n",
      "1.4655712319132883\n",
      "1.465571231876768\n"
     ]
    }
   ],
   "source": [
    "aitken(1, f2, 1e-12)"
   ]
  },
  {
   "cell_type": "code",
   "execution_count": 32,
   "metadata": {},
   "outputs": [
    {
     "name": "stdout",
     "output_type": "stream",
     "text": [
      "1.465858585858586\n",
      "1.4655712527301703\n",
      "1.4655712318767682\n"
     ]
    }
   ],
   "source": [
    "aitken(1, f3, 1e-12)"
   ]
  },
  {
   "cell_type": "markdown",
   "metadata": {},
   "source": [
    "## 总结\n",
    "\n",
    "虽然这只是数值分析的一道题但总体来说，觉得这门课如果设置成一门实践课可能也有好处，不过现在这样自己探索真的好有意思，也让我对这门课有了更深的理解。\n"
   ]
  }
 ],
 "metadata": {
  "kernelspec": {
   "display_name": "Python 3 (ipykernel)",
   "language": "python",
   "name": "python3"
  },
  "language_info": {
   "codemirror_mode": {
    "name": "ipython",
    "version": 3
   },
   "file_extension": ".py",
   "mimetype": "text/x-python",
   "name": "python",
   "nbconvert_exporter": "python",
   "pygments_lexer": "ipython3",
   "version": "3.9.7"
  },
  "vscode": {
   "interpreter": {
    "hash": "5179d32cf6ec497baf3f8a3ef987cc77c5d2dc691fdde20a56316522f61a7323"
   }
  }
 },
 "nbformat": 4,
 "nbformat_minor": 2
}
