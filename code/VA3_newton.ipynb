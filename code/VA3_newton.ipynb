{
 "cells": [
  {
   "cell_type": "markdown",
   "metadata": {},
   "source": [
    "# 牛顿迭代法Newton!!!"
   ]
  },
  {
   "cell_type": "markdown",
   "metadata": {},
   "source": [
    "## 牛顿迭代法的基本思想\n",
    "\n",
    "牛顿迭代法是一种用来求解方程的方法，它的基本思想是：如果一个函数在某一点的切线是直线，那么迭代下一次产生的值就是切线与x轴的交点的x坐标，按照这个思想，我们可以不断迭代，直到收敛到方程的根。\n",
    "\n",
    "## 牛顿迭代法的数学表达\n",
    "\n",
    "设函数$f(x)$在$x_0$处可导，且$f(x)$在$x_0$处的一阶导数$f'(x_0)$存在，且$f'(x_0)\\neq 0$，则称$x_0$是方程$f(x)=0$的一个**牛顿迭代点**，记作$x_0\\in\\mathbb{R}$，且称函数$f(x)$在$x_0$处的切线方程为\n",
    "\n",
    "$$\n",
    "f(x)=f(x_0)+f'(x_0)(x-x_0)\n",
    "$$\n",
    "\n",
    "若$x_1$是方程$f(x)=0$的一个牛顿迭代点，且$x_1$满足\n",
    "\n",
    "$$\n",
    "x_1=x_0-\\frac{f(x_0)}{f'(x_0)}\n",
    "$$\n",
    "\n",
    "则称$x_1$是方程$f(x)=0$的一个**牛顿迭代点**，记作$x_1\\in\\mathbb{R}$，且称函数$f(x)$在$x_1$处的切线方程为\n",
    "\n",
    "$$\n",
    "f(x)=f(x_1)+f'(x_1)(x-x_1)\n",
    "$$\n",
    "\n",
    "若$x_2$是方程$f(x)=0$的一个牛顿迭代点，则$x_2$也满足\n",
    "\n",
    "$$\n",
    "x_2=x_1-\\frac{f(x_1)}{f'(x_1)}\n",
    "$$\n",
    "\n",
    "所以，牛顿迭代法的迭代公式为\n",
    "\n",
    "$$\n",
    "x_{n+1}=x_n-\\frac{f(x_n)}{f'(x_n)}\n",
    "$$\n"
   ]
  },
  {
   "cell_type": "markdown",
   "metadata": {},
   "source": [
    "## 简单例子"
   ]
  },
  {
   "cell_type": "markdown",
   "metadata": {},
   "source": [
    "### 求解方程$x^3 - x^2 - x - 1 = 0$的正根，$\\varepsilon=10^{-4}$"
   ]
  },
  {
   "cell_type": "markdown",
   "metadata": {},
   "source": [
    "### 用牛顿迭代法\n",
    "\n",
    "```python\n",
    "import numpy as np\n",
    "import matplotlib.pyplot as plt\n",
    "%matplotlib inline\n",
    "```\n",
    "\n",
    "```python\n",
    "def f(x):\n",
    "    return x**3 - x**2 - x - 1\n",
    "```\n",
    "\n",
    "```python\n",
    "def f1(x):\n",
    "    return 3*x**2 - 2*x - 1\n",
    "```\n",
    "\n",
    "```python\n",
    "def newton(x0, eps):\n",
    "    x = x0\n",
    "    while abs(f(x)) > eps:\n",
    "        x = x - f(x)/f1(x)\n",
    "    return x\n",
    "```\n",
    "\n",
    "```python\n",
    "newton(1, 1e-4)\n",
    "```\n",
    "\n",
    "```python\n",
    "newton(2, 1e-4)\n",
    "```\n"
   ]
  },
  {
   "cell_type": "code",
   "execution_count": 25,
   "metadata": {},
   "outputs": [],
   "source": [
    "from pickle import TRUE\n",
    "import numpy as np\n",
    "import matplotlib.pyplot as plt\n",
    "%matplotlib inline\n",
    "\n",
    "\n",
    "def f(x):\n",
    "    return x**3 - x**2 - x - 1\n",
    "\n",
    "\n",
    "def f1(x):\n",
    "    return 3*x**2 - 2*x - 1\n",
    "\n",
    "\n",
    "def newton(x0, eps,isprint=True):\n",
    "    x = x0\n",
    "    while abs(f(x)/f1(x)) > eps:\n",
    "        x = x - f(x)/f1(x)\n",
    "        if isprint:\n",
    "            print(x)\n",
    "    x = x - f(x)/f1(x)\n",
    "    return x\n",
    "\n",
    "\n",
    "# newton(1, 1e-4) "
   ]
  },
  {
   "cell_type": "code",
   "execution_count": 17,
   "metadata": {},
   "outputs": [
    {
     "data": {
      "text/plain": [
       "<matplotlib.lines.Line2D at 0x2b08f696cd0>"
      ]
     },
     "execution_count": 17,
     "metadata": {},
     "output_type": "execute_result"
    },
    {
     "data": {
      "image/png": "[encoded data removed]",
      "text/plain": [
       "<Figure size 432x288 with 1 Axes>"
      ]
     },
     "metadata": {
      "needs_background": "light"
     },
     "output_type": "display_data"
    }
   ],
   "source": [
    "x = np.linspace(-2, 3, 100)\n",
    "plt.plot(x, f(x))\n",
    "plt.plot(x, f1(x))\n",
    "plt.grid()\n",
    "# 显示坐标轴\n",
    "plt.axhline(y=0, color='k')\n",
    "plt.axvline(x=0, color='k')"
   ]
  },
  {
   "cell_type": "code",
   "execution_count": 18,
   "metadata": {},
   "outputs": [
    {
     "data": {
      "text/plain": [
       "-2"
      ]
     },
     "execution_count": 18,
     "metadata": {},
     "output_type": "execute_result"
    }
   ],
   "source": [
    "f(1)"
   ]
  },
  {
   "cell_type": "code",
   "execution_count": 19,
   "metadata": {},
   "outputs": [
    {
     "data": {
      "text/plain": [
       "1"
      ]
     },
     "execution_count": 19,
     "metadata": {},
     "output_type": "execute_result"
    }
   ],
   "source": [
    "f(2)"
   ]
  },
  {
   "cell_type": "code",
   "execution_count": 26,
   "metadata": {},
   "outputs": [
    {
     "name": "stdout",
     "output_type": "stream",
     "text": [
      "1.8571428571428572\n",
      "1.839544513457557\n",
      "1.8392868100680193\n"
     ]
    },
    {
     "data": {
      "text/plain": [
       "1.8392867552141636"
      ]
     },
     "execution_count": 26,
     "metadata": {},
     "output_type": "execute_result"
    }
   ],
   "source": [
    "newton(2, 1e-4)"
   ]
  },
  {
   "cell_type": "code",
   "execution_count": 24,
   "metadata": {},
   "outputs": [
    {
     "data": {
      "text/plain": [
       "0.00025770338953776654"
      ]
     },
     "execution_count": 24,
     "metadata": {},
     "output_type": "execute_result"
    }
   ],
   "source": [
    "tmpx = 1.839544513457557\n",
    "f(tmpx)/f1(tmpx)"
   ]
  },
  {
   "cell_type": "markdown",
   "metadata": {},
   "source": [
    "### 弦截法\n",
    "\n",
    "\n",
    "```python\n",
    "def secant(x0, x1, eps):\n",
    "    x = x1\n",
    "    while abs(f(x)) > eps:\n",
    "        x = x - f(x)*(x-x0)/(f(x)-f(x0))\n",
    "        x0 = x1\n",
    "        x1 = x\n",
    "    return x\n",
    "```\n",
    "\n",
    "```python\n",
    "secant(1, 2, 1e-4)\n",
    "```\n"
   ]
  },
  {
   "cell_type": "code",
   "execution_count": 27,
   "metadata": {},
   "outputs": [],
   "source": [
    "def secant(x0, x1, eps, isprint=True):\n",
    "    x = x1\n",
    "    while abs(f(x)*(x-x0)/(f(x)-f(x0))) > eps:\n",
    "        x = x - f(x)*(x-x0)/(f(x)-f(x0))\n",
    "        x0 = x1\n",
    "        x1 = x\n",
    "        if isprint:\n",
    "            print(x)\n",
    "    x = x - f(x)*(x-x0)/(f(x)-f(x0))\n",
    "    return x"
   ]
  },
  {
   "cell_type": "code",
   "execution_count": 29,
   "metadata": {},
   "outputs": [
    {
     "name": "stdout",
     "output_type": "stream",
     "text": [
      "1.6666666666666667\n",
      "1.816326530612245\n",
      "1.8429939112321743\n",
      "1.8392156332109642\n"
     ]
    },
    {
     "data": {
      "text/plain": [
       "1.839286537939871"
      ]
     },
     "execution_count": 29,
     "metadata": {},
     "output_type": "execute_result"
    }
   ],
   "source": [
    "secant(1, 2, 1e-4)"
   ]
  },
  {
   "cell_type": "markdown",
   "metadata": {},
   "source": [
    "## 小结\n",
    "相比于弦截法，牛顿迭代法的收敛速度更快，但是牛顿迭代法需要求解一阶导数，而弦截法不需要。\n",
    "\n",
    "但牛顿迭代法的一阶导数为零时，牛顿迭代法会出现问题，所以牛顿迭代法的收敛速度更快的前提是一阶导数不为零。\n",
    "\n",
    "我们在后面的课程中会学习到牛顿迭代法的改进方法，这些改进方法可以解决牛顿迭代法一阶导数为零时的问题。"
   ]
  },
  {
   "cell_type": "markdown",
   "metadata": {},
   "source": [
    "## 牛顿迭代法解方程组"
   ]
  },
  {
   "cell_type": "markdown",
   "metadata": {},
   "source": [
    "### 简单例子\n",
    "\n",
    "$$\n",
    "\\begin{cases}\n",
    "f(x,y) = x + 2y - 3 = 0\\\\\n",
    "g(x,y) = 2x^2 + y^2 - 5 = 0\\\\\n",
    "(x_0, y_0) = (-1, 2)\n",
    "\\end{cases}\n",
    "$$\n",
    "\n",
    "对上述方程组，我们求其迭代过程中的一阶展开式\n",
    "\n",
    "$$\n",
    "\\begin{bmatrix}\n",
    "f(x_{n+1}, y_{n+1})\\\\\n",
    "g(x_{n+1}, y_{n+1})\n",
    "\\end{bmatrix}\n",
    "=\n",
    "\\begin{bmatrix}\n",
    "\\frac{\\partial f}{\\partial x} & \\frac{\\partial f}{\\partial y}\\\\\n",
    "\\frac{\\partial g}{\\partial x} & \\frac{\\partial g}{\\partial y}\n",
    "\\end{bmatrix}\n",
    "\\begin{bmatrix}\n",
    "x_{n+1} - x_n\\\\\n",
    "y_{n+1} - y_n\n",
    "\\end{bmatrix}\n",
    "+\n",
    "\\begin{bmatrix}\n",
    "f(x_n, y_n)\\\\\n",
    "g(x_n, y_n)\n",
    "\\end{bmatrix}\n",
    "$$\n",
    "\n",
    "\n",
    "分别令$f(x_{n+1}, y_{n+1})=0$和$g(x_{n+1}, y_{n+1})=0$，且记$\\Delta x=x_{n+1}-x_n$和$\\Delta y=y_{n+1}-y_n$，则有\n",
    "\n",
    "$$\n",
    "\\begin{cases}\n",
    "f(x_n, y_n) + \\frac{\\partial f}{\\partial x}\\Delta x + \\frac{\\partial f}{\\partial y}\\Delta y = 0\\\\\n",
    "g(x_n, y_n) + \\frac{\\partial g}{\\partial x}\\Delta x + \\frac{\\partial g}{\\partial y}\\Delta y = 0\n",
    "\\end{cases}\n",
    "$$\n",
    "\n",
    "则我们的目标成为了解下述方程\n",
    "\n",
    "$$\n",
    "\\begin{align}\n",
    "\\frac{\\partial f}{\\partial x} \\Delta x + \\frac{\\partial f}{\\partial y} \\Delta y &= -f(x_n,y_n)\\\\\n",
    "\\frac{\\partial g}{\\partial x} \\Delta x + \\frac{\\partial g}{\\partial y} \\Delta y &= -g(x_n,y_n)\n",
    "\\end{align}\n",
    "$$\n",
    "\n",
    "这是一个二元一次方程组，由高中知识我们可以很容易地解出$\\Delta x$和$\\Delta y$，从而得到$x_{n+1}$和$y_{n+1}$。\n",
    "\n",
    "$$\n",
    "\\begin{align}\n",
    "\\Delta x &= - \\frac{\\frac{\\partial g}{\\partial y}f(x_n,y_n) - \\frac{\\partial f}{\\partial y}g(x_n,y_n)}{\\frac{\\partial f}{\\partial x}\\frac{\\partial g}{\\partial y} - \\frac{\\partial f}{\\partial y}\\frac{\\partial g}{\\partial x}}\\\\\n",
    "\\Delta y &= - \\frac{\\frac{\\partial f}{\\partial x}g(x_n,y_n) - \\frac{\\partial g}{\\partial x}f(x_n,y_n)}{\\frac{\\partial f}{\\partial x}\\frac{\\partial g}{\\partial y} - \\frac{\\partial f}{\\partial y}\\frac{\\partial g}{\\partial x}}\n",
    "\\end{align}\n",
    "$$\n",
    "\n",
    "又有$x_{n+1}=x_n+\\Delta x$和$y_{n+1}=y_n+\\Delta y$，所以我们的迭代公式为\n",
    "\n",
    "\n",
    "$$\n",
    "\\begin{cases}\n",
    "x_{n+1} = x_n - \\frac{f(x_n, y_n)g_y(x_n, y_n) - g(x_n, y_n)f_y(x_n, y_n)}{f_x(x_n, y_n)g_y(x_n, y_n) - f_y(x_n, y_n)g_x(x_n, y_n)}\\\\\n",
    "y_{n+1} = y_n - \\frac{f_x(x_n, y_n)g(x_n, y_n) - g_x(x_n, y_n)f(x_n, y_n)}{f_x(x_n, y_n)g_y(x_n, y_n) - f_y(x_n, y_n)g_x(x_n, y_n)}\n",
    "\\end{cases}\n",
    "$$\n",
    "\n",
    "则对上述具体例子，我们便可以首先求解$f(x,y)$和$g(x,y)$的偏导数，容易得到\n",
    "\n",
    "$$\n",
    "\\begin{align}\n",
    "\\frac{\\partial f}{\\partial x} &= 1\\\\\n",
    "\\frac{\\partial f}{\\partial y} &= 2\\\\\n",
    "\\frac{\\partial g}{\\partial x} &= 4x\\\\\n",
    "\\frac{\\partial g}{\\partial y} &= 2y\n",
    "\\end{align}\n",
    "$$\n",
    "\n",
    "\n",
    "\n",
    "Just show code and the result\n",
    "\n",
    "\n",
    "```python\n",
    "def f(x, y):\n",
    "    return x + 2*y - 3\n",
    "```\n",
    "\n",
    "```python\n",
    "def g(x, y):\n",
    "    return 2*x**2 + y**2 - 5\n",
    "```\n",
    "\n",
    "```python\n",
    "def f1(x, y):\n",
    "    return 1\n",
    "```\n",
    "\n",
    "```python\n",
    "def f2(x, y):\n",
    "    return 2\n",
    "```\n",
    "\n",
    "```python\n",
    "def g1(x, y):\n",
    "    return 4*x\n",
    "```\n",
    "\n",
    "```python\n",
    "def g2(x, y):\n",
    "    return 2*y\n",
    "```\n",
    "\n",
    "```python\n",
    "def newton(x0, y0, eps，is_print=True):\n",
    "    x = x0\n",
    "    y = y0\n",
    "    while abs(f(x, y)) > eps or abs(g(x, y)) > eps:\n",
    "        x = x - (f(x, y)*g2(x, y) - g(x, y)*f2(x, y))/(f1(x, y)*g2(x, y) - f2(x, y)*g1(x, y))\n",
    "        y = y - (g(x, y)*f1(x, y) - f(x, y)*g1(x, y))/(f1(x, y)*g2(x, y) - f2(x, y)*g1(x, y))\n",
    "        if is_print:\n",
    "            print(x, y)\n",
    "    return x, y\n",
    "```\n",
    "\n",
    "```python\n",
    "newton(-1, 2, 1e-4)\n",
    "```\n"
   ]
  },
  {
   "cell_type": "code",
   "execution_count": 19,
   "metadata": {},
   "outputs": [],
   "source": [
    "def f(x, y):\n",
    "    return x + 2*y - 3\n",
    "\n",
    "\n",
    "def g(x, y):\n",
    "    return 2*x**2 + y**2 - 5\n",
    "\n",
    "\n",
    "def f1(x, y):\n",
    "    return 1\n",
    "\n",
    "\n",
    "def f2(x, y):\n",
    "    return 2\n",
    "\n",
    "\n",
    "def g1(x, y):\n",
    "    return 4*x\n",
    "\n",
    "\n",
    "def g2(x, y):\n",
    "    return 2*y\n",
    "\n",
    "\n",
    "def newton(x0, y0, eps, is_print=True):\n",
    "    x = x0\n",
    "    y = y0\n",
    "    while True:\n",
    "        if is_print:\n",
    "            print(x, y)\n",
    "            print(f1(x, y), f2(x, y), f(x, y))\n",
    "            print(g1(x, y), g2(x, y), g(x, y))\n",
    "        dx = - (f(x, y)*g2(x, y) - g(x, y)*f2(x, y))/(f1(x, y)*g2(x, y) - f2(x, y)*g1(x, y))\n",
    "        dy = - (f1(x, y)*g(x, y) - f(x, y)*g1(x, y))/(f1(x, y)*g2(x, y) - f2(x, y)*g1(x, y))\n",
    "        x = x + dx\n",
    "        y = y + dy\n",
    "        if is_print:\n",
    "            print(dx , dy)\n",
    "        if abs(dx) < eps and abs(dy) < eps:\n",
    "            break\n",
    "    return x, y\n"
   ]
  },
  {
   "cell_type": "code",
   "execution_count": 20,
   "metadata": {},
   "outputs": [
    {
     "name": "stdout",
     "output_type": "stream",
     "text": [
      "-1 2\n",
      "1 2 0\n",
      "-4 4 1\n",
      "0.16666666666666666 -0.08333333333333333\n",
      "-0.8333333333333334 1.9166666666666667\n",
      "1 2 0.0\n",
      "-3.3333333333333335 3.8333333333333335 0.06250000000000089\n",
      "0.011904761904762074 -0.005952380952381037\n",
      "-0.8214285714285713 1.9107142857142858\n",
      "1 2 4.440892098500626e-16\n",
      "-3.285714285714285 3.8214285714285716 0.00031887755102033566\n",
      "6.136475208622433e-05 -3.068237604333421e-05\n"
     ]
    },
    {
     "data": {
      "text/plain": [
       "(-0.8213672066764851, 1.9106836033382424)"
      ]
     },
     "execution_count": 20,
     "metadata": {},
     "output_type": "execute_result"
    }
   ],
   "source": [
    "newton(-1, 2, 1e-4)"
   ]
  },
  {
   "cell_type": "markdown",
   "metadata": {},
   "source": [
    "## 改进的牛顿迭代法 -- 牛顿下山法\n",
    "\n",
    "依然，我们想求解方程$f(x) = 0$，其中$f(x)$是一个可导函数。我们的目标是找到一个$x_0$，使得$f(x_0) = 0$即可；\n",
    "\n",
    "由于传统的牛顿迭代法可能迭代到某个点之后就发散了，所以我们牛顿迭代法的基础上，引入了一个步长因子$\\lambda$，使得迭代公式变为\n",
    "\n",
    "$$\n",
    "\\begin{align}\n",
    "x_{n+1} = x_n - \\lambda \\frac{f(x_n)}{f'(x_n)}\\\\\n",
    "\\end{align}\n",
    "$$\n",
    "\n",
    "这样，我们就可以在迭代过程中，通过调整步长因子$\\lambda$，来控制迭代的速度，从而达到更好的收敛效果。调节步长因子$\\lambda$的方法有很多，这里我们采用的是二分法。\n",
    "\n",
    "```python\n",
    "def f(x):\n",
    "    return x**2 - 2\n",
    "```\n",
    "\n",
    "```python\n",
    "def f1(x):\n",
    "    return 2*x\n",
    "```\n",
    "\n",
    "```python\n",
    "def newton_downhill(x0, eps, is_print=True):\n",
    "    x = x0\n",
    "    while True:\n",
    "        l = 1.0\n",
    "        while abs(f(x - l*f(x)/f1(x))) >= abs(f(x)):\n",
    "            l /= 2\n",
    "        x = x - l*f(x)/f1(x)\n",
    "        if abs(- l*f(x)/f1(x)) < eps:\n",
    "            break\n",
    "        if is_print:\n",
    "            print(x)\n",
    "    return x\n",
    "```\n",
    "\n",
    "\n",
    "```python\n",
    "newton2(0.5, 1e-4)\n",
    "```\n"
   ]
  },
  {
   "cell_type": "code",
   "execution_count": 28,
   "metadata": {},
   "outputs": [
    {
     "name": "stdout",
     "output_type": "stream",
     "text": [
      "1.375\n",
      "0.019886363636363636\n",
      "1.4147727272727273\n",
      "0.0005590543994158503\n",
      "1.4142136728733115\n",
      "1.1050021215020399e-07\n"
     ]
    },
    {
     "data": {
      "text/plain": [
       "1.4142136728733115"
      ]
     },
     "execution_count": 28,
     "metadata": {},
     "output_type": "execute_result"
    }
   ],
   "source": [
    "def f(x):\n",
    "    return x**2 - 2\n",
    "\n",
    "\n",
    "def f1(x):\n",
    "    return 2*x\n",
    "\n",
    "\n",
    "def newton_downhill(x0, eps, is_print=True):\n",
    "    x = x0\n",
    "    while True:\n",
    "        l = 1.0\n",
    "        while abs(f(x - l*f(x)/f1(x))) >= abs(f(x)):\n",
    "            l /= 2\n",
    "        x = x - l*f(x)/f1(x)\n",
    "        if is_print:\n",
    "            print(x)\n",
    "            print(abs(- l*f(x)/f1(x)))\n",
    "        if abs(- l*f(x)/f1(x)) < eps:\n",
    "            break\n",
    "    return x\n",
    "\n",
    "newton_downhill(0.5, 1e-4)"
   ]
  },
  {
   "cell_type": "code",
   "execution_count": 29,
   "metadata": {},
   "outputs": [
    {
     "data": {
      "text/plain": [
       "-1.75"
      ]
     },
     "execution_count": 29,
     "metadata": {},
     "output_type": "execute_result"
    }
   ],
   "source": [
    "f(0.5)"
   ]
  },
  {
   "cell_type": "code",
   "execution_count": 30,
   "metadata": {},
   "outputs": [
    {
     "data": {
      "text/plain": [
       "3.0625"
      ]
     },
     "execution_count": 30,
     "metadata": {},
     "output_type": "execute_result"
    }
   ],
   "source": [
    "f(2.25)"
   ]
  },
  {
   "cell_type": "code",
   "execution_count": 31,
   "metadata": {},
   "outputs": [
    {
     "data": {
      "text/plain": [
       "-0.109375"
      ]
     },
     "execution_count": 31,
     "metadata": {},
     "output_type": "execute_result"
    }
   ],
   "source": [
    "f(1.375)"
   ]
  },
  {
   "cell_type": "code",
   "execution_count": 33,
   "metadata": {},
   "outputs": [],
   "source": [
    "# 假如用传统方法\n",
    "def newton(x0, eps,isprint=True):\n",
    "    x = x0\n",
    "    while True:\n",
    "        x = x - f(x)/f1(x)\n",
    "        if isprint:\n",
    "            print(x)\n",
    "            print(abs(f(x)/f1(x)))\n",
    "        if abs(f(x)/f1(x)) < eps:\n",
    "            break\n",
    "    return x"
   ]
  },
  {
   "cell_type": "code",
   "execution_count": 34,
   "metadata": {},
   "outputs": [
    {
     "name": "stdout",
     "output_type": "stream",
     "text": [
      "2.25\n",
      "0.6805555555555556\n",
      "1.5694444444444444\n",
      "0.14755408062930186\n",
      "1.4218903638151426\n",
      "0.007656077875069233\n",
      "1.4142342859400734\n",
      "2.072341514131297e-05\n"
     ]
    },
    {
     "data": {
      "text/plain": [
       "1.4142342859400734"
      ]
     },
     "execution_count": 34,
     "metadata": {},
     "output_type": "execute_result"
    }
   ],
   "source": [
    "newton(0.5, 1e-4)"
   ]
  },
  {
   "cell_type": "markdown",
   "metadata": {},
   "source": [
    "### 小结\n",
    "\n",
    "这个例子中，用牛顿下山法去做，我们可以看到，迭代的过程中，步长因子$\\lambda$是在不断减小的，这样，我们就可以在迭代过程中，通过调整步长因子$\\lambda$，来控制迭代的速度，从而达到更好的收敛效果。\n",
    "\n",
    "但是用普通牛顿迭代法达到同样的精度也只是多一次迭代而已，只能说这个例子可能不是很好，但牛顿下山法确实一定程度上可以防止迭代发散的情况。"
   ]
  }
 ],
 "metadata": {
  "kernelspec": {
   "display_name": "Python 3 (ipykernel)",
   "language": "python",
   "name": "python3"
  },
  "language_info": {
   "codemirror_mode": {
    "name": "ipython",
    "version": 3
   },
   "file_extension": ".py",
   "mimetype": "text/x-python",
   "name": "python",
   "nbconvert_exporter": "python",
   "pygments_lexer": "ipython3",
   "version": "3.9.7"
  },
  "vscode": {
   "interpreter": {
    "hash": "5179d32cf6ec497baf3f8a3ef987cc77c5d2dc691fdde20a56316522f61a7323"
   }
  }
 },
 "nbformat": 4,
 "nbformat_minor": 2
}
