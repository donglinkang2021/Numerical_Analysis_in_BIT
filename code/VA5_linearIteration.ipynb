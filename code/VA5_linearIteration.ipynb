{
 "cells": [
  {
   "cell_type": "markdown",
   "metadata": {},
   "source": [
    "# 解线性方程组的迭代法"
   ]
  },
  {
   "cell_type": "markdown",
   "metadata": {},
   "source": [
    "## 前言\n",
    "\n",
    "> - 本文主要用两个简单的例子来介绍了解线性方程组的三种迭代法的原理和实现方法：第一个例子供我们去学习，而第二个例子供我们去验证。\n",
    "> - 还另外介绍了一些范数的知识，以及如何用Python来计算范数。\n",
    "> - 另：本文的代码实现全部基于Python。"
   ]
  },
  {
   "cell_type": "markdown",
   "metadata": {},
   "source": [
    "### 例1\n",
    "\n",
    "求解方程组\n",
    "\n",
    "$$\n",
    "\\begin{cases}\n",
    "20x_1 + 2x_2 + 3x_3 = 24 \\\\\n",
    "x_1 + 8x_2 + x_3 = 12 \\\\\n",
    "2x_1 - 3x_2 + 15x_3 = 30\n",
    "\\end{cases}\n",
    "$$\n",
    "\n",
    "写成矩阵形式\n",
    "\n",
    "$$\n",
    "\\begin{bmatrix}\n",
    "20 & 2 & 3 \\\\\n",
    "1 & 8 & 1 \\\\\n",
    "2 & -3 & 15\n",
    "\\end{bmatrix}\n",
    "\\begin{bmatrix}\n",
    "x_1 \\\\\n",
    "x_2 \\\\\n",
    "x_3\n",
    "\\end{bmatrix}\n",
    "=\n",
    "\\begin{bmatrix}\n",
    "24 \\\\\n",
    "12 \\\\\n",
    "30\n",
    "\\end{bmatrix}\n",
    "\\\\\n",
    "令A =\n",
    "\\begin{bmatrix}\n",
    "20 & 2 & 3 \\\\\n",
    "1 & 8 & 1 \\\\\n",
    "2 & -3 & 15\n",
    "\\end{bmatrix}\n",
    ",\n",
    "X =\n",
    "\\begin{bmatrix}\n",
    "x_1 \\\\\n",
    "x_2 \\\\\n",
    "x_3\n",
    "\\end{bmatrix}\n",
    ",\n",
    "B =\n",
    "\\begin{bmatrix}\n",
    "24 \\\\\n",
    "12 \\\\\n",
    "30\n",
    "\\end{bmatrix}\n",
    "\\\\ 则有AX = B\n",
    "$$\n"
   ]
  },
  {
   "cell_type": "code",
   "execution_count": 42,
   "metadata": {},
   "outputs": [],
   "source": [
    "import numpy as np\n",
    "import pandas as pd\n",
    "\n",
    "A = np.array([\n",
    "    [20, 2, 3], \n",
    "    [1, 8, 1], \n",
    "    [2, -3, 15]\n",
    "    ])\n",
    "B = np.array([\n",
    "    [24], \n",
    "    [12], \n",
    "    [30]\n",
    "    ])\n",
    "X = np.array([\n",
    "    [0], \n",
    "    [0], \n",
    "    [0]\n",
    "    ])"
   ]
  },
  {
   "cell_type": "code",
   "execution_count": 43,
   "metadata": {},
   "outputs": [
    {
     "data": {
      "text/plain": [
       "array([[0.76735381],\n",
       "       [1.13840976],\n",
       "       [2.12536811]])"
      ]
     },
     "execution_count": 43,
     "metadata": {},
     "output_type": "execute_result"
    }
   ],
   "source": [
    "np.linalg.solve(A, B)"
   ]
  },
  {
   "cell_type": "markdown",
   "metadata": {},
   "source": [
    "### 朴素想法\n",
    "\n",
    "建立迭代公式\n",
    "\n",
    "$$\n",
    "AX = B\n",
    "\\\\ \\Rightarrow\n",
    "0 = B - AX\n",
    "\\\\ \\Rightarrow\n",
    "X = (I-A)X + B\n",
    "$$\n"
   ]
  },
  {
   "cell_type": "code",
   "execution_count": 13,
   "metadata": {},
   "outputs": [
    {
     "data": {
      "text/plain": [
       "array([[-1.70908945e+13],\n",
       "       [-1.69858915e+12],\n",
       "       [-4.97527196e+12]])"
      ]
     },
     "execution_count": 13,
     "metadata": {},
     "output_type": "execute_result"
    }
   ],
   "source": [
    "def simple_iteration(A, B ,n = 10):\n",
    "    X = np.array([[0], [0], [0]])\n",
    "    # 单位矩阵\n",
    "    I = np.eye(A.shape[0])\n",
    "    for i in range(n):\n",
    "        X = np.dot(I-A, X) + B\n",
    "    return X\n",
    "\n",
    "simple_iteration(A, B) # 10次迭代发现下面结果不收敛,果断舍弃,下面我们将介绍三种收敛的迭代方法"
   ]
  },
  {
   "cell_type": "markdown",
   "metadata": {},
   "source": [
    "## 简单迭代法"
   ]
  },
  {
   "cell_type": "markdown",
   "metadata": {},
   "source": [
    "### 雅可比迭代法"
   ]
  },
  {
   "cell_type": "markdown",
   "metadata": {},
   "source": [
    "#### 数学推理\n",
    "\n",
    "对于一个如下的n阶线性方程组\n",
    "\n",
    "$$\n",
    "\\begin{cases}\n",
    "a_{11}x_1 + a_{12}x_2 + \\cdots + a_{1n}x_n = b_1 \\\\\n",
    "a_{21}x_1 + a_{22}x_2 + \\cdots + a_{2n}x_n = b_2 \\\\\n",
    " \\vdots \\\\\n",
    "a_{n1}x_1 + a_{n2}x_2 + \\cdots + a_{nn}x_n = b_n\n",
    "\\end{cases}\n",
    "$$\n",
    "\n",
    "写成如下求和形式\n",
    "\n",
    "$$\n",
    "\\sum_{j=1}^n a_{ij}x_j = b_i, i=1,2,\\cdots,n \\\\\n",
    "$$\n",
    "\n",
    "则对于每一列来说，都有\n",
    "\n",
    "$$\n",
    "x_i = (b_i - \\sum_{k=1,k\\neq i}^n a_{ij}x_k)/a_{ii}, i=1,2,\\cdots,n\n",
    "$$\n",
    "\n",
    "写成矩阵形式\n",
    "\n",
    "$$\n",
    "X = (B + (D-A)X)D^{-1} \\\\\n",
    "其中D为对角矩阵，D_{ii} = a_{ii}, i=1,2,\\cdots,n \\\\\n",
    "$$\n",
    "\n",
    "令$G = D^{-1}(D-A) = I - D^{-1}A, F=D^{-1}B$，则有\n",
    "\n",
    "$$\n",
    "X = GX + F\n",
    "$$\n",
    "\n",
    "这就是我们的雅可比迭代公式。（又叫简单迭代法）\n",
    "\n"
   ]
  },
  {
   "cell_type": "markdown",
   "metadata": {},
   "source": [
    "#### 代码实现"
   ]
  },
  {
   "cell_type": "code",
   "execution_count": 88,
   "metadata": {},
   "outputs": [
    {
     "name": "stdout",
     "output_type": "stream",
     "text": [
      "第0次迭代\n",
      "X = [1 1 2]\n",
      "第1次迭代\n",
      "X = [0.8        1.125      2.06666667]\n",
      "第2次迭代\n",
      "X = [0.7775     1.14166667 2.11833333]\n",
      "第3次迭代\n",
      "X = [0.76808333 1.13802083 2.12466667]\n",
      "第4次迭代\n",
      "X = [0.76749792 1.13840625 2.12519306]\n",
      "第5次迭代\n",
      "X = [0.76738042 1.13841363 2.12534819]\n",
      "第6次迭代\n",
      "X = [0.76735641 1.13840892 2.12536534]\n",
      "第7次迭代\n",
      "X = [0.76735431 1.13840978 2.1253676 ]\n",
      "迭代次数： 7\n",
      "[0.76735388 1.13840976 2.12536805]\n"
     ]
    }
   ],
   "source": [
    "import numpy as np\n",
    "\n",
    "def jacobi(A, B, X0, eps=1e-6, maxIter=10):\n",
    "    n = len(A)\n",
    "    X = X0\n",
    "    D = np.diag(A) # 对角线元素, 返回一维数组\n",
    "    R = np.diagflat(D) - A # 对角线元素为0的矩阵, diagflat()函数用于将一维数组转换为对角矩阵\n",
    "    for i in range(maxIter):\n",
    "        print('第{}次迭代'.format(i))\n",
    "        print('X = {}'.format(X))\n",
    "        X = (B + np.dot(R, X0)) / D\n",
    "        if np.linalg.norm(X - X0) < eps:\n",
    "            print('迭代次数：', i)\n",
    "            break\n",
    "        X0 = X\n",
    "    return X\n",
    "\n",
    "\n",
    "A = np.array([[20, 2, 3], [1, 8, 1], [2, -3, 15]])\n",
    "B = np.array([24, 12, 30])\n",
    "X0 = np.array([1, 1, 2])\n",
    "X = jacobi(A, B, X0)\n",
    "print(X)"
   ]
  },
  {
   "cell_type": "code",
   "execution_count": 56,
   "metadata": {},
   "outputs": [
    {
     "data": {
      "text/plain": [
       "array([24.00000054, 12.00000009, 29.9999996 ])"
      ]
     },
     "execution_count": 56,
     "metadata": {},
     "output_type": "execute_result"
    }
   ],
   "source": [
    "A @ X # 检验结果"
   ]
  },
  {
   "cell_type": "markdown",
   "metadata": {},
   "source": [
    "#### 补充知识——范数"
   ]
  },
  {
   "cell_type": "markdown",
   "metadata": {},
   "source": [
    "##### 向量范数\n",
    "\n",
    "范数是向量空间中的一个函数，它将向量映射到实数域上。范数的定义是：对于向量空间中的任意两个向量，都有一个非负的实数与之对应，这个实数称为这两个向量的范数。范数的性质：\n",
    "\n",
    "1. 非负性：$||x|| \\geq 0$\n",
    "2. 对任意实数$\\alpha$，有$||\\alpha x|| = |\\alpha||x||$\n",
    "3. 对任意向量$X,Y \\in \\mathbb{R}^n$，有$||X+Y|| \\leq ||X|| + ||Y||$\n",
    "\n",
    "一些常用范数：\n",
    "\n",
    "1. $L_1$范数：$||x||_1 = \\sum_{i=1}^n |x_i|$\n",
    "2. $L_2$范数：$||x||_2 = \\sqrt{\\sum_{i=1}^n x_i^2}$\n",
    "3. $L_\\infty$范数：$||x||_\\infty = \\max_{i=1,2,\\cdots,n}|x_i|$\n",
    "\n",
    "其中$L_p$范数定义为\n",
    "\n",
    "$$\n",
    "||x||_p = \\left(\\sum_{i=1}^n |x_i|^p\\right)^{1/p}\n",
    "$$\n",
    "\n",
    "当不需要区分范数时，我们一般用$||x||$表示$L_2$范数。（书上说的是泛指任何一种向量范数，但是我觉得$L_2$更常用）\n",
    "\n",
    "##### 矩阵范数\n",
    "\n",
    "常用的矩阵范数有：\n",
    "\n",
    "1. $L_1$范数：$||A||_1 = \\max_{1\\leq j\\leq n}\\sum_{i=1}^n |a_{ij}|$ （列和范数）\n",
    "2. $L_\\infty$范数：$||A||_\\infty = \\max_{1\\leq i\\leq n}\\sum_{j=1}^n |a_{ij}|$ （行和范数）\n",
    "3. $Frobenius$范数：$||A||_F = \\sqrt{\\sum_{i=1}^n\\sum_{j=1}^n a_{ij}^2}$ （矩阵元素平方和的平方根）\n",
    "4. $L_2$范数：$||A||_2 = \\max_{\\|x\\|=1}||Ax||_2$\n",
    "\n",
    "其中$L_p$范数定义为\n",
    "\n",
    "$$\n",
    "||A||_p = \\max_{\\|x\\|=1}||Ax||_p\n",
    "$$\n",
    "\n",
    "其中$\\|x\\|$表示$x$的$L_2$范数，x是一个向量。\n",
    "\n",
    "书本上的二范数定义为\n",
    "\n",
    "$$\n",
    "||A||_2 = \\sqrt{\\lambda_{max}(A^*A)} \\\\\n",
    "其中\\lambda_{max}是矩阵A的最大特征值，A^*是A的共轭转置\n",
    "$$\n",
    "\n",
    "有人觉得这个定义不太好，因为这个定义是针对特征值的，而不是针对矩阵的；但从理解角度而言这个定义可能确实更好，"
   ]
  },
  {
   "cell_type": "code",
   "execution_count": 79,
   "metadata": {},
   "outputs": [
    {
     "name": "stdout",
     "output_type": "stream",
     "text": [
      "6.0\n",
      "3.0\n",
      "[5. 7. 9.]\n",
      "3.0\n",
      "6.0\n",
      "15.0\n",
      "1.0\n",
      "6.0\n",
      "6.0\n",
      "9.539392014169456\n",
      "10.280901636369205\n",
      "3.7416573867739413\n",
      "3.7416573867739413\n",
      "9.539392014169456\n",
      "[5. 7. 9.]\n",
      "[ 6. 15.]\n",
      "[4.12310563 5.38516481 6.70820393]\n",
      "[3.74165739 8.77496439]\n"
     ]
    }
   ],
   "source": [
    "# numpy.linalg.norm()函数用于计算矩阵或向量范数, 默认为2范数, 也可以指定ord参数为1范数或无穷范数\n",
    "# ord = 1, 1范数, 各列绝对值之和的最大值\n",
    "# ord = np.inf, 无穷范数, 各行绝对值之和的最大值\n",
    "# ord = -np.inf, 负无穷范数, 各行绝对值之和的最小值\n",
    "# ord = None, 矩阵范数, 矩阵的最大奇异值\n",
    "# ord = 'fro', 矩阵范数, 矩阵的Frobenius范数\n",
    "# ord = 'nuc', 矩阵范数, 矩阵的谱范数\n",
    "\n",
    "# 测试范数\n",
    "import numpy as np\n",
    "\n",
    "# 向量\n",
    "a = np.array([1, 2, 3])\n",
    "# 将a转换为矩阵\n",
    "a1 = np.array([[1, 2, 3]])\n",
    "# 矩阵\n",
    "A = np.array([\n",
    "    [1, 2, 3], \n",
    "    [4, 5, 6]\n",
    "    ])\n",
    "\n",
    "# 1范数\n",
    "print(np.linalg.norm(a, ord=1)) # 6.0 如果a多加个中括号会怎么样？\n",
    "print(np.linalg.norm(a1, ord=1)) # 3.0 这个完全可以说明了其实只有一个中括号时，numpy默认这就是一个列向量\n",
    "print(np.linalg.norm(A, ord=1, axis=0)) # [5. 7. 9.]\n",
    "\n",
    "# 无穷范数\n",
    "print(np.linalg.norm(a, ord=np.inf)) # 3.0 \n",
    "print(np.linalg.norm(a1, ord=np.inf)) # 6.0\n",
    "print(np.linalg.norm(A, ord=np.inf)) # 15.0\n",
    "\n",
    "# 负无穷范数\n",
    "print(np.linalg.norm(a, ord=-np.inf)) # 1.0\n",
    "print(np.linalg.norm(a1, ord=-np.inf)) # 6.0\n",
    "print(np.linalg.norm(A, ord=-np.inf)) # 6.0\n",
    "\n",
    "# Frobenius范数\n",
    "print(np.linalg.norm(A, ord='fro')) # 9.539392014169456\n",
    "\n",
    "# 谱范数\n",
    "print(np.linalg.norm(A, ord='nuc')) # 10.280901636369205\n",
    "\n",
    "# 2范数\n",
    "print(np.linalg.norm(a)) # 3.7416573867739413\n",
    "print(np.linalg.norm(a1)) # 3.7416573867739413\n",
    "print(np.linalg.norm(A)) # 9.539392014169456 矩阵范数默认为Frobenius范数\n",
    "\n",
    "# axis参数\n",
    "# axis = 0, 按列计算\n",
    "# axis = 1, 按行计算\n",
    "# axis = None, 计算整个矩阵范数\n",
    "print(np.linalg.norm(A, ord=1, axis=0)) # [5. 7. 9.] 按列计算1范数\n",
    "print(np.linalg.norm(A, ord=1, axis=1)) # [ 6. 15.] 按行计算1范数\n",
    "print(np.linalg.norm(A, axis=0)) # [4.12310563 5.38516481 6.70820393] 按列计算Frobenius范数\n",
    "print(np.linalg.norm(A, axis=1)) # [3.74165739 8.77496439] 按行计算Frobenius范数"
   ]
  },
  {
   "cell_type": "markdown",
   "metadata": {},
   "source": [
    "## 赛德尔迭代法"
   ]
  },
  {
   "cell_type": "markdown",
   "metadata": {},
   "source": [
    "### 数学推理\n",
    "\n",
    "赛德尔迭代法是一种迭代法，又叫高斯赛德尔迭代法。\n",
    "\n",
    "对于方程组$AX=B$，我们可以将其中的A分解为$A = L + D + U$，其中L是下三角矩阵，D是对角矩阵，U是上三角矩阵, 如下所示\n",
    "\n",
    "$$\n",
    "\\begin{bmatrix}\n",
    "a_{11} & a_{12} & \\cdots & a_{1n} \\\\\n",
    "a_{21} & a_{22} & \\cdots & a_{2n} \\\\\n",
    "\\vdots & \\vdots & \\ddots & \\vdots \\\\\n",
    "a_{n1} & a_{n2} & \\cdots & a_{nn}\n",
    "\\end{bmatrix} =\n",
    "\\begin{bmatrix}\n",
    "0 & 0 & \\cdots & 0 \\\\\n",
    "l_{21} & 0 & \\cdots & 0 \\\\\n",
    "\\vdots & \\vdots & \\ddots & \\vdots \\\\\n",
    "l_{n1} & l_{n2} & \\cdots & 0\n",
    "\\end{bmatrix} \n",
    "+\n",
    "\\begin{bmatrix}\n",
    "d_{11} & 0 & \\cdots & 0 \\\\\n",
    "0 & d_{22} & \\cdots & 0 \\\\\n",
    "\\vdots & \\vdots & \\ddots & \\vdots \\\\\n",
    "0 & 0 & \\cdots & d_{nn}\n",
    "\\end{bmatrix}\n",
    "+\n",
    "\\begin{bmatrix}\n",
    "0 & u_{12} & \\cdots & u_{1n} \\\\\n",
    "0 & 0 & \\cdots & u_{2n} \\\\\n",
    "\\vdots & \\vdots & \\ddots & \\vdots \\\\\n",
    "0 & 0 & \\cdots & 0\n",
    "\\end{bmatrix}\n",
    "$$\n",
    "\n",
    "其中$l_{ij} = a_{ij}, i>j$，$d_{ii} = a_{ii}, i=1,2,\\cdots,n$，$u_{ij} = a_{ij}, i<j$。\n",
    "\n",
    "则我们可以将方程组$AX=B$转化为$X^{(k+1)} = -D^{-1}LX^{(k+1)} - D^{-1}UX^{(k)} + D^{-1}B$，其中$X^{(k)}$表示第k次迭代的结果。\n"
   ]
  },
  {
   "cell_type": "markdown",
   "metadata": {},
   "source": [
    "### 代码实现"
   ]
  },
  {
   "cell_type": "code",
   "execution_count": 92,
   "metadata": {},
   "outputs": [
    {
     "name": "stdout",
     "output_type": "stream",
     "text": [
      "第0次迭代\n",
      "X = [0 0 0]\n",
      "x = [1.2 0.  0. ]\n",
      "x = [1.2  1.35 0.  ]\n",
      "x = [1.2  1.35 2.11]\n",
      "第1次迭代\n",
      "X = [1.2  1.35 2.11]\n",
      "x = [0.7485 0.     0.    ]\n",
      "x = [0.7485    1.1426875 0.       ]\n",
      "x = [0.7485    1.1426875 2.1287375]\n",
      "第2次迭代\n",
      "X = [0.7485    1.1426875 2.1287375]\n",
      "x = [0.76642062 0.         0.        ]\n",
      "x = [0.76642062 1.13810523 0.        ]\n",
      "x = [0.76642062 1.13810523 2.12543163]\n",
      "第3次迭代\n",
      "X = [0.76642062 1.13810523 2.12543163]\n",
      "x = [0.76737473 0.         0.        ]\n",
      "x = [0.76737473 1.1383992  0.        ]\n",
      "x = [0.76737473 1.1383992  2.12536321]\n",
      "第4次迭代\n",
      "X = [0.76737473 1.1383992  2.12536321]\n",
      "x = [0.7673556 0.        0.       ]\n",
      "x = [0.7673556  1.13841015 0.        ]\n",
      "x = [0.7673556  1.13841015 2.12536795]\n",
      "第5次迭代\n",
      "X = [0.7673556  1.13841015 2.12536795]\n",
      "x = [0.76735379 0.         0.        ]\n",
      "x = [0.76735379 1.13840978 0.        ]\n",
      "x = [0.76735379 1.13840978 2.12536812]\n",
      "第6次迭代\n",
      "X = [0.76735379 1.13840978 2.12536812]\n",
      "x = [0.7673538 0.        0.       ]\n",
      "x = [0.7673538  1.13840976 0.        ]\n",
      "x = [0.7673538  1.13840976 2.12536811]\n",
      "迭代次数： 6\n",
      "[0.76735379 1.13840978 2.12536812]\n"
     ]
    }
   ],
   "source": [
    "import numpy as np\n",
    "\n",
    "def seidel(A, b, x0, eps=1e-6, max_iter=10):\n",
    "    \"\"\"\n",
    "    高斯赛德尔迭代法\n",
    "    :param A: 系数矩阵\n",
    "    :param b: 常数向量\n",
    "    :param x0: 初始值\n",
    "    :param tol: 容许误差\n",
    "    :param max_iter: 最大迭代次数\n",
    "    :return: 迭代结果\n",
    "    \"\"\"\n",
    "    n = len(b)\n",
    "    x = x0\n",
    "    for k in range(max_iter):\n",
    "        print('第{}次迭代'.format(k))\n",
    "        print('X = {}'.format(x))\n",
    "        x_new = np.zeros(n)\n",
    "        for i in range(n):\n",
    "            x_new[i] = (b[i] - np.dot(A[i, :i], x_new[:i]) - np.dot(A[i, i+1:], x[i+1:])) / A[i, i]\n",
    "            print('x = {}'.format(x_new))\n",
    "        if np.linalg.norm(x_new - x) < eps:\n",
    "            print('迭代次数：', k)\n",
    "            break\n",
    "        x = x_new\n",
    "    return x\n",
    "\n",
    "A = np.array([\n",
    "    [20, 2, 3], \n",
    "    [1, 8, 1], \n",
    "    [2, -3, 15]\n",
    "    ])\n",
    "B = np.array([\n",
    "    24,\n",
    "    12, \n",
    "    30\n",
    "    ])\n",
    "x0 = np.array([0, 0, 0])\n",
    "x = seidel(A, B, x0)\n",
    "print(x)\n",
    "    "
   ]
  },
  {
   "cell_type": "code",
   "execution_count": 90,
   "metadata": {},
   "outputs": [
    {
     "name": "stdout",
     "output_type": "stream",
     "text": [
      "第0次迭代\n",
      "X = [0 0 0]\n",
      "第1次迭代\n",
      "X = [1.2 1.5 2. ]\n",
      "第2次迭代\n",
      "X = [0.75 1.1  2.14]\n",
      "第3次迭代\n",
      "X = [0.769   1.13875 2.12   ]\n",
      "第4次迭代\n",
      "X = [0.768125   1.138875   2.12521667]\n",
      "第5次迭代\n",
      "X = [0.76733    1.13833229 2.12535833]\n",
      "第6次迭代\n",
      "X = [0.76736302 1.13841396 2.12535579]\n",
      "第7次迭代\n",
      "X = [0.76735524 1.13841015 2.12536772]\n",
      "第8次迭代\n",
      "X = [0.76735383 1.13840963 2.125368  ]\n",
      "迭代次数： 8\n"
     ]
    },
    {
     "data": {
      "text/plain": [
       "array([0.76735384, 1.13840977, 2.12536808])"
      ]
     },
     "execution_count": 90,
     "metadata": {},
     "output_type": "execute_result"
    }
   ],
   "source": [
    "# 对比一下雅可比迭代法\n",
    "jacobi(A, B, x0) # 迭代次数8次"
   ]
  },
  {
   "cell_type": "markdown",
   "metadata": {},
   "source": [
    "## 松弛迭代法"
   ]
  },
  {
   "cell_type": "markdown",
   "metadata": {},
   "source": [
    "\n",
    "### 数学推理\n",
    "\n",
    "松弛迭代法就是在残差的基础上加入了松弛因子$\\omega$，\n",
    "\n",
    "$$\n",
    "X^{(k+1)} = X^{(k)} + \\omega R^{(k)}\n",
    "$$\n"
   ]
  },
  {
   "cell_type": "markdown",
   "metadata": {},
   "source": [
    "### 简单迭代法下的逐次松弛法\n",
    "\n",
    "对于雅可比迭代法的迭代公式, 我们可以这样写\n",
    "\n",
    "$$\n",
    "\\begin{aligned}\n",
    "X^{(k+1)} &= (I -  D^{-1}A)X^{(k)} +  D^{-1}B \\\\\n",
    "&= X^{(k)} +  D^{-1}(B - AX^{(k)})\n",
    "\\end{aligned}\n",
    "$$\n",
    "\n",
    "我们把$D^{-1}(B - AX^{(k)})$称为残差，因此我们可以将迭代公式写成\n",
    "\n",
    "$$\n",
    "X^{(k+1)} = X^{(k)} + R^{(k)}\n",
    "$$\n",
    "\n",
    "引入松弛因子, 我们可以得到\n",
    "\n",
    "$$\n",
    "\\begin{aligned}\n",
    "X^{(k+1)} &= X^{(k)} + \\omega R^{(k)} \\\\\n",
    "&= X^{(k)} + \\omega D^{-1}(B - AX^{(k)})\n",
    "\\end{aligned}\n",
    "$$"
   ]
  },
  {
   "cell_type": "markdown",
   "metadata": {},
   "source": [
    "#### 代码实现\n"
   ]
  },
  {
   "cell_type": "code",
   "execution_count": 94,
   "metadata": {},
   "outputs": [],
   "source": [
    "\n",
    "def jacobi_relax(A, b, x0, omega, max_iter=100, tol=1e-6):\n",
    "    n = len(b)\n",
    "    x = x0\n",
    "    for i in range(max_iter):\n",
    "        x_new = x + omega * np.linalg.inv(np.diag(np.diag(A))).dot(b - A.dot(x))\n",
    "        if np.linalg.norm(x_new - x) < tol:\n",
    "            print('迭代次数：', i)\n",
    "            break\n",
    "        x = x_new\n",
    "    return x\n"
   ]
  },
  {
   "cell_type": "code",
   "execution_count": 95,
   "metadata": {},
   "outputs": [
    {
     "name": "stdout",
     "output_type": "stream",
     "text": [
      "迭代次数： 24\n"
     ]
    },
    {
     "data": {
      "text/plain": [
       "array([0.76735483, 1.13840975, 2.12536716])"
      ]
     },
     "execution_count": 95,
     "metadata": {},
     "output_type": "execute_result"
    }
   ],
   "source": [
    "jacobi_relax(A, B, x0, 0.5) # 迭代次数24次"
   ]
  },
  {
   "cell_type": "code",
   "execution_count": 96,
   "metadata": {},
   "outputs": [
    {
     "name": "stdout",
     "output_type": "stream",
     "text": [
      "迭代次数： 8\n"
     ]
    },
    {
     "data": {
      "text/plain": [
       "array([0.76735383, 1.13840963, 2.125368  ])"
      ]
     },
     "execution_count": 96,
     "metadata": {},
     "output_type": "execute_result"
    }
   ],
   "source": [
    "jacobi_relax(A, B, x0, 1) # 迭代次数8次"
   ]
  },
  {
   "cell_type": "code",
   "execution_count": 97,
   "metadata": {},
   "outputs": [
    {
     "name": "stdout",
     "output_type": "stream",
     "text": [
      "迭代次数： 16\n"
     ]
    },
    {
     "data": {
      "text/plain": [
       "array([0.76735393, 1.13840993, 2.12536793])"
      ]
     },
     "execution_count": 97,
     "metadata": {},
     "output_type": "execute_result"
    }
   ],
   "source": [
    "jacobi_relax(A, B, x0, 1.25) # 迭代次数16次"
   ]
  },
  {
   "cell_type": "markdown",
   "metadata": {},
   "source": [
    "### 高斯赛德尔迭代法下的逐次松弛法\n",
    "\n",
    "对于高斯赛德尔迭代法的迭代公式, 我们可以这样写\n",
    "\n",
    "$$\n",
    "\\begin{aligned}\n",
    "X^{(k+1)} &= -D^{-1}(L)X^{(k+1)} - D^{-1}(U)X^{(k)} + D^{-1}B \\\\\n",
    "&= D^{-1}(B - LX^{(k+1)} - UX^{(k)})\n",
    "\\end{aligned}\n",
    "$$\n",
    "\n",
    "对于单个元素，我们可以这样写\n",
    "\n",
    "$$\n",
    "\\begin{aligned}\n",
    "x_{i}^{(k+1)} &= d_{ii}^{-1}(b_{i} - \\sum_{j=1}^{i-1}l_{ij}x_{j}^{(k+1)} - \\sum_{j=i+1}^{n}u_{ij}x_{j}^{(k)}) \\\\\n",
    "&= \\frac{1}{a_{ii}}(b_{i} - \\sum_{j=1}^{i-1}l_{ij}x_{j}^{(k+1)} - \\sum_{j=i+1}^{n}u_{ij}x_{j}^{(k)})\n",
    "\\\\ \\Rightarrow\n",
    "x_{i}^{(k+1)} &= x_{i}^{(k)} + \\frac{1}{a_{ii}}(b_{i} - \\sum_{j=1}^{i-1}l_{ij}x_{j}^{(k+1)} -a_{ii}x_{i}^{(k)}- \\sum_{j=i+1}^{n}u_{ij}x_{j}^{(k)})\n",
    "\\\\ 引入松弛因子\\omega \\Rightarrow\n",
    "x_{i}^{(k+1)} &= x_{i}^{(k)} + \\frac{\\omega}{a_{ii}}(b_{i} - \\sum_{j=1}^{i-1}l_{ij}x_{j}^{(k+1)} -a_{ii}x_{i}^{(k)}- \\sum_{j=i+1}^{n}u_{ij}x_{j}^{(k)})\n",
    "\\\\ \\Rightarrow\n",
    "x_{i}^{(k+1)} &= x_{i}^{(k)} + \\omega (\\hat{x}_i - x_i^{(k)})  = (1-\\omega)x_i^{(k)} + \\omega \\hat{x}_i\n",
    "\\\\ \\text{其中} \\hat{x}_i &= \\frac{1}{a_{ii}}(b_{i} - \\sum_{j=1}^{i-1}l_{ij}x_{j}^{(k+1)} - \\sum_{j=i+1}^{n}u_{ij}x_{j}^{(k)}) \n",
    "\\end{aligned}\n",
    "$$\n",
    "\n"
   ]
  },
  {
   "cell_type": "markdown",
   "metadata": {},
   "source": [
    "#### 代码实现\n"
   ]
  },
  {
   "cell_type": "code",
   "execution_count": 111,
   "metadata": {},
   "outputs": [],
   "source": [
    "def gauss_seidel_relaxation(A, b, x0, omega, max_iter=100, tol=1e-6):\n",
    "    \"\"\"\n",
    "    高斯赛德尔迭代法下的逐次松弛法\n",
    "    :param A: 系数矩阵\n",
    "    :param b: 常数向量\n",
    "    :param x0: 初始值\n",
    "    :param omega: 松弛因子\n",
    "    :param max_iter: 最大迭代次数\n",
    "    :param tol: 精度\n",
    "    :return: 迭代结果\n",
    "    \"\"\"\n",
    "    n = len(b)\n",
    "    x = x0\n",
    "    for i in range(max_iter):\n",
    "        x_new = np.zeros(n)\n",
    "        for j in range(n):\n",
    "            x_new[j] = (1 - omega) * x[j] + omega * (b[j] - np.dot(A[j, :j], x_new[:j]) - np.dot(A[j, j + 1:], x[j + 1:])) / A[j, j]\n",
    "        if np.linalg.norm(x_new - x) < tol:\n",
    "            print('迭代次数：', i)\n",
    "            break\n",
    "        x = x_new\n",
    "    return x"
   ]
  },
  {
   "cell_type": "code",
   "execution_count": 112,
   "metadata": {},
   "outputs": [
    {
     "name": "stdout",
     "output_type": "stream",
     "text": [
      "迭代次数： 22\n"
     ]
    },
    {
     "data": {
      "text/plain": [
       "array([0.76735551, 1.13841036, 2.125367  ])"
      ]
     },
     "execution_count": 112,
     "metadata": {},
     "output_type": "execute_result"
    }
   ],
   "source": [
    "gauss_seidel_relaxation(A, B, x0, 0.5) # 迭代次数22次"
   ]
  },
  {
   "cell_type": "code",
   "execution_count": 113,
   "metadata": {},
   "outputs": [
    {
     "name": "stdout",
     "output_type": "stream",
     "text": [
      "迭代次数： 6\n"
     ]
    },
    {
     "data": {
      "text/plain": [
       "array([0.76735379, 1.13840978, 2.12536812])"
      ]
     },
     "execution_count": 113,
     "metadata": {},
     "output_type": "execute_result"
    }
   ],
   "source": [
    "gauss_seidel_relaxation(A, B, x0, 1) # 迭代次数6次"
   ]
  },
  {
   "cell_type": "code",
   "execution_count": 114,
   "metadata": {},
   "outputs": [
    {
     "name": "stdout",
     "output_type": "stream",
     "text": [
      "迭代次数： 13\n"
     ]
    },
    {
     "data": {
      "text/plain": [
       "array([0.76735303, 1.13840981, 2.12536829])"
      ]
     },
     "execution_count": 114,
     "metadata": {},
     "output_type": "execute_result"
    }
   ],
   "source": [
    "gauss_seidel_relaxation(A, B, x0, 1.25) # 迭代次数13次"
   ]
  },
  {
   "cell_type": "markdown",
   "metadata": {},
   "source": [
    "> 注: 对omega的选择, 有一些经验值, 例如当$\\omega > 2$时, 逐次松弛法会发散, 因此, 一般选择$\\omega \\in (0, 2)$ , 当$\\omega = 1$时, 逐次松弛法退化为简单迭代法或者赛德尔;\n",
    "> 数值分析课本证明了$\\omega \\in (0, 2)$是必要条件, 但是没有证明充分条件;"
   ]
  },
  {
   "cell_type": "markdown",
   "metadata": {},
   "source": [
    "## 例2\n",
    "\n",
    "<!-- 验证课本例题 -->\n",
    "\n",
    "用赛德尔迭代法下的松弛迭代解下列方程组\n",
    "\n",
    "$$\n",
    "\\begin{cases}\n",
    "4x_1 + 3x_3 = 24 \\\\\n",
    "3x_1 + 4x_2 - x_3 = 30 \\\\\n",
    "-x_2 + 4x_3 = -24\n",
    "\\end{cases}\n",
    "$$\n"
   ]
  },
  {
   "cell_type": "markdown",
   "metadata": {},
   "source": [
    "### 代码实现"
   ]
  },
  {
   "cell_type": "code",
   "execution_count": 26,
   "metadata": {},
   "outputs": [],
   "source": [
    "import numpy as np\n",
    "\n",
    "def gauss_seidel(A, b, x0, omega=1, tol=1e-7, max_iter=100):\n",
    "    n = A.shape[0]\n",
    "    x = x0.copy()\n",
    "    for i in range(max_iter):\n",
    "        print('X = {}'.format(x))\n",
    "        for j in range(n):\n",
    "            x[j] = (1 - omega) * x[j] + omega * (b[j] - A[j, :j] @ x[:j] - A[j, j+1:] @ x[j+1:]) / A[j, j]\n",
    "            # x_new[j] = (1 - omega) * x[j] + omega * (b[j] - np.dot(A[j, :j], x_new[:j]) - np.dot(A[j, j + 1:], x[j + 1:])) / A[j, j] \n",
    "        if np.linalg.norm(A @ x - b) < tol:\n",
    "            print('迭代次数：', i)\n",
    "            break\n",
    "    return x\n"
   ]
  },
  {
   "cell_type": "code",
   "execution_count": 27,
   "metadata": {},
   "outputs": [
    {
     "name": "stdout",
     "output_type": "stream",
     "text": [
      "X = [1. 1. 1.]\n",
      "X = [ 6.3125      3.51953125 -6.65014648]\n",
      "X = [12.15638733 -4.97966671 -7.39360923]\n",
      "X = [11.39241182 -2.37097228 -6.39252653]\n",
      "X = [10.64489067 -2.00950647 -6.52983914]\n",
      "X = [10.96050153 -2.43866829 -6.62962406]\n",
      "X = [10.97514717 -2.37629092 -6.5851849 ]\n",
      "X = [10.92982405 -2.3355076  -6.5835499 ]\n",
      "X = [10.93962202 -2.35437809 -6.58985568]\n",
      "X = [10.94308419 -2.35487681 -6.58843508]\n",
      "X = [10.94088684 -2.35224818 -6.58796878]\n",
      "X = [10.94099902 -2.35286479 -6.58827805]\n",
      "X = [10.94126092 -2.3530528  -6.58825949]\n",
      "X = [10.94117804 -2.3529223  -6.58822335]\n",
      "X = [10.94116488 -2.35293129 -6.58823519]\n",
      "X = [10.94117927 -2.35294624 -6.5882369 ]\n",
      "X = [10.94117728 -2.35294117 -6.58823489]\n",
      "X = [10.94117589 -2.35294051 -6.58823519]\n",
      "X = [10.94117651 -2.35294135 -6.58823538]\n",
      "X = [10.94117654 -2.35294122 -6.58823529]\n",
      "迭代次数： 19\n",
      "迭代结果： [10.94117645 -2.35294114 -6.58823529]\n",
      "误差： 8.793428993778205e-08\n"
     ]
    }
   ],
   "source": [
    "A = np.array([[4, 0, 3], [3, 4, -1], [0, -1, 4]])\n",
    "b = np.array([24, 30, -24])\n",
    "x0 = np.array([1,1,1], dtype=float)\n",
    "x = gauss_seidel(A, b, x0, omega=1.25)\n",
    "print(\"迭代结果：\", x)\n",
    "print(\"误差：\", np.linalg.norm(A @ x - b))"
   ]
  },
  {
   "cell_type": "code",
   "execution_count": 28,
   "metadata": {},
   "outputs": [
    {
     "data": {
      "text/plain": [
       "array([10.94117647, -2.35294118, -6.58823529])"
      ]
     },
     "execution_count": 28,
     "metadata": {},
     "output_type": "execute_result"
    }
   ],
   "source": [
    "np.linalg.solve(A, b)"
   ]
  },
  {
   "cell_type": "code",
   "execution_count": 29,
   "metadata": {},
   "outputs": [
    {
     "name": "stdout",
     "output_type": "stream",
     "text": [
      "X = [1. 1. 1.]\n",
      "X = [ 5.25      3.8125   -5.046875]\n",
      "X = [ 9.78515625 -1.10058594 -6.27514648]\n",
      "X = [10.70635986 -2.09855652 -6.52463913]\n",
      "X = [10.89347935 -2.30126929 -6.57531732]\n",
      "X = [10.93148799 -2.34244533 -6.58561133]\n",
      "X = [10.9392085  -2.35080921 -6.5877023 ]\n",
      "X = [10.94077673 -2.35250812 -6.58812703]\n",
      "X = [10.94109527 -2.35285321 -6.5882133 ]\n",
      "X = [10.94115998 -2.35292331 -6.58823083]\n",
      "X = [10.94117312 -2.35293755 -6.58823439]\n",
      "X = [10.94117579 -2.35294044 -6.58823511]\n",
      "X = [10.94117633 -2.35294103 -6.58823526]\n",
      "迭代次数： 12\n"
     ]
    },
    {
     "data": {
      "text/plain": [
       "array([10.94117644, -2.35294115, -6.58823529])"
      ]
     },
     "execution_count": 29,
     "metadata": {},
     "output_type": "execute_result"
    }
   ],
   "source": [
    "gauss_seidel(A, b, x0, omega=1)"
   ]
  },
  {
   "cell_type": "markdown",
   "metadata": {},
   "source": [
    "### 小结\n",
    "\n",
    "个人感觉课本上的习题的解释应该是错了，就比如例2，课本上的解释是\n",
    "\n",
    "<!-- 引用 -->\n",
    "\n",
    "> 若要迭代结果精确到7位小数，高斯赛德尔迭代法（选取$\\omega = 1$）需要34次迭代运算，而松弛迭代法（选取$\\omega = 1.25$）只需要迭代14次，\n",
    "\n",
    "而实际上，上面的代码的结果也看到了，实际上是松弛迭代法需要19次迭代，而高斯赛德尔迭代法只需要12次迭代，松弛迭代法的收敛速度也不见得比高斯赛德尔迭代法快。\n",
    "\n",
    "> 个人感觉而已，也有可能是代码有问题，欢迎指正。"
   ]
  },
  {
   "cell_type": "code",
   "execution_count": 8,
   "metadata": {},
   "outputs": [],
   "source": [
    "import numpy as np\n",
    "\n",
    "def gauss_seidel(A, b, x0, omega=1, tol=1e-7, max_iter=100):\n",
    "    n = A.shape[0]\n",
    "    x = x0.copy()\n",
    "    for i in range(max_iter):\n",
    "        print('X = {}'.format(x))\n",
    "        tmp = x.copy()\n",
    "        for j in range(n):\n",
    "            x[j] = (1 - omega) * x[j] + omega * (b[j] - A[j, :j] @ x[:j] - A[j, j+1:] @ x[j+1:]) / A[j, j]\n",
    "        if np.linalg.norm(x-tmp,ord=np.inf) < tol:\n",
    "            print('迭代次数：', i)\n",
    "            break\n",
    "    return x\n"
   ]
  },
  {
   "cell_type": "code",
   "execution_count": 9,
   "metadata": {},
   "outputs": [
    {
     "name": "stdout",
     "output_type": "stream",
     "text": [
      "X = [0. 0. 0.]\n",
      "X = [-2.16     4.014    1.74258]\n",
      "X = [-4.1347044   3.18693051  2.04897603]\n",
      "X = [-4.08958111  2.97649809  2.01467669]\n",
      "X = [-4.00313923  2.99033897  1.99942425]\n",
      "X = [-3.99673232  3.00002821  1.99936186]\n",
      "X = [-3.99956852  3.00038707  1.99996303]\n",
      "X = [-4.00008954  3.0000352   2.00002192]\n",
      "X = [-4.00002557  2.9999879   2.00000353]\n",
      "X = [-3.99999884  2.99999746  1.99999946]\n",
      "迭代次数： 9\n",
      "迭代结果： [-3.99999887  3.00000024  1.99999981]\n",
      "误差： 5.966169745997881e-06\n"
     ]
    }
   ],
   "source": [
    "A = np.array([\n",
    "    [5, 2, 1], \n",
    "    [-1, 4, 2], \n",
    "    [2, -3, 10]\n",
    "    ])\n",
    "b = np.array([-12, 20, 3])\n",
    "x0 = np.array([0,0,0], dtype=float)\n",
    "x = gauss_seidel(A, b, x0, omega=0.9, tol=1e-5)\n",
    "print(\"迭代结果：\", x)\n",
    "print(\"误差：\", np.linalg.norm(A @ x - b))"
   ]
  },
  {
   "cell_type": "code",
   "execution_count": 3,
   "metadata": {},
   "outputs": [
    {
     "data": {
      "text/plain": [
       "array([-4.,  3.,  2.])"
      ]
     },
     "execution_count": 3,
     "metadata": {},
     "output_type": "execute_result"
    }
   ],
   "source": [
    "np.linalg.solve(A, b)"
   ]
  },
  {
   "cell_type": "code",
   "execution_count": 5,
   "metadata": {},
   "outputs": [
    {
     "name": "stdout",
     "output_type": "stream",
     "text": [
      "X = [0. 0. 0.]\n",
      "X = [-2.4  4.4  2.1]\n",
      "X = [-4.58    2.805   2.0575]\n",
      "X = [-3.9335     2.987875   1.9830625]\n",
      "X = [-3.9917625   3.01052812  2.00151094]\n",
      "X = [-4.00451344  2.99811617  2.00033754]\n",
      "X = [-3.99931398  3.00000274  1.99986362]\n",
      "X = [-3.99997382  3.00007474  2.00001718]\n",
      "X = [-4.00003333  2.99998307  2.00000159]\n",
      "X = [-3.99999355  3.00000082  1.99999896]\n",
      "X = [-4.00000012  3.00000049  2.00000017]\n",
      "X = [-4.00000023  2.99999986  2.        ]\n",
      "X = [-3.99999994  3.00000001  1.99999999]\n",
      "迭代次数： 12\n"
     ]
    },
    {
     "data": {
      "text/plain": [
       "array([-4.,  3.,  2.])"
      ]
     },
     "execution_count": 5,
     "metadata": {},
     "output_type": "execute_result"
    }
   ],
   "source": [
    "x0 = np.array([0,0,0], dtype=float)\n",
    "gauss_seidel(A, b, x0, omega=1)"
   ]
  },
  {
   "cell_type": "code",
   "execution_count": 10,
   "metadata": {},
   "outputs": [],
   "source": [
    "M1 =  np.array([\n",
    "    [0, 0, 0],\n",
    "    [0.225, 0, 0],\n",
    "    [-0.18, 0.27, 0]\n",
    "    ])\n",
    "M2 =  np.array([\n",
    "    [0.1, -0.36, 0.18],\n",
    "    [0, 0.1, -0.45],\n",
    "    [0, 0, 0.1]\n",
    "    ])\n",
    "I = np.eye(3)"
   ]
  },
  {
   "cell_type": "code",
   "execution_count": 13,
   "metadata": {},
   "outputs": [],
   "source": [
    "G=M2.dot(np.linalg.inv((I - M1)))"
   ]
  },
  {
   "cell_type": "code",
   "execution_count": 16,
   "metadata": {},
   "outputs": [
    {
     "name": "stdout",
     "output_type": "stream",
     "text": [
      "特征值： [0.02344163+0.18372197j 0.02344163-0.18372197j 0.02915174+0.j        ]\n",
      "特征向量：\n",
      " [[-0.87460087+0.j         -0.87460087-0.j          0.98590851+0.j        ]\n",
      " [ 0.09215315+0.46728014j  0.09215315-0.46728014j -0.00342371+0.j        ]\n",
      " [ 0.03354739-0.08429087j  0.03354739+0.08429087j  0.16725039+0.j        ]]\n"
     ]
    }
   ],
   "source": [
    "# 求解特征值和特征向量\n",
    "eig_value, eig_vector = np.linalg.eig(G)\n",
    "print('特征值：', eig_value)\n",
    "print('特征向量：\\n', eig_vector)"
   ]
  },
  {
   "cell_type": "code",
   "execution_count": 18,
   "metadata": {},
   "outputs": [
    {
     "name": "stdout",
     "output_type": "stream",
     "text": [
      "谱半径： 0.1852114235671082\n"
     ]
    }
   ],
   "source": [
    "# 求解谱半径\n",
    "spectral_radius = max(abs(eig_value))\n",
    "print('谱半径：', spectral_radius)"
   ]
  },
  {
   "cell_type": "code",
   "execution_count": null,
   "metadata": {},
   "outputs": [],
   "source": []
  }
 ],
 "metadata": {
  "kernelspec": {
   "display_name": "Python 3 (ipykernel)",
   "language": "python",
   "name": "python3"
  },
  "language_info": {
   "codemirror_mode": {
    "name": "ipython",
    "version": 3
   },
   "file_extension": ".py",
   "mimetype": "text/x-python",
   "name": "python",
   "nbconvert_exporter": "python",
   "pygments_lexer": "ipython3",
   "version": "3.9.7"
  },
  "vscode": {
   "interpreter": {
    "hash": "5179d32cf6ec497baf3f8a3ef987cc77c5d2dc691fdde20a56316522f61a7323"
   }
  }
 },
 "nbformat": 4,
 "nbformat_minor": 2
}
