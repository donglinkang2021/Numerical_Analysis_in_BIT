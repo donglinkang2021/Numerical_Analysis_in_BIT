{
 "cells": [
  {
   "cell_type": "markdown",
   "metadata": {},
   "source": [
    "# 解线性方程组的直接法"
   ]
  },
  {
   "cell_type": "markdown",
   "metadata": {},
   "source": [
    "### 例1\n",
    "\n",
    "$$\n",
    "\\begin{cases}\n",
    "3x_1 + 2x_2 + 5x_3 = 6 \\\\\n",
    "-x_1 + 4x_2 + 3x_3 = 5 \\\\\n",
    "x_1 - x_2 + 3x_3 = 1\n",
    "\\end{cases}\n",
    "$$"
   ]
  },
  {
   "cell_type": "markdown",
   "metadata": {},
   "source": [
    "## 普通解法\n",
    "代码如下：\n",
    "\n",
    "```python\n",
    "import numpy as np\n",
    "A = np.array([[3, 2, 5], [-1, 4, 3], [1, -1, 3]])\n",
    "b = np.array([6, 5, 1])\n",
    "x = np.linalg.solve(A, b)\n",
    "print(x)\n",
    "```"
   ]
  },
  {
   "cell_type": "code",
   "execution_count": 5,
   "metadata": {},
   "outputs": [
    {
     "name": "stdout",
     "output_type": "stream",
     "text": [
      "[0.5 1.  0.5]\n"
     ]
    }
   ],
   "source": [
    "import numpy as np\n",
    "A = np.array([[3, 2, 5], [-1, 4, 3], [1, -1, 3]])\n",
    "b = np.array([6, 5, 1])\n",
    "x = np.linalg.solve(A, b)\n",
    "print(x)"
   ]
  },
  {
   "cell_type": "markdown",
   "metadata": {},
   "source": [
    "## 高斯若尔当消元法\n",
    "\n",
    "> 高斯若尔当消元法是一种解线性方程组的方法，它是一种直接法，即不需要迭代求解，而是直接求解。高斯若尔当消元法的基本思想是将线性方程组转化为一个上三角矩阵，然后逐个求解。\n",
    "> \n",
    "> 另注：高斯若尔当消元法是一种直接法，或者说成是一种朴素想法，但如果初学者在网上搜的时候可能会看到一大堆定义，其中不乏这样的说法\n",
    "> - 高斯若尔当消元法是要消元直到左边矩阵为单位矩阵的方法，[from csdn](https://blog.csdn.net/daduzimama/article/details/120486666)\n",
    "> - 高斯若尔当消元法是要消元直到左边矩阵为上三角矩阵的方法, [高等代数第三版上册·丘维声·高等教育出版社](https://item.jd.com/12274342.html)\n",
    "> - 高斯若尔当消元法是写成[A|I]的形式，然后消元直到左边矩阵为单位矩阵的方法, [from baidu baike](https://baike.baidu.com/item/%E9%AB%98%E6%96%AF-%E8%8B%A5%E5%B0%94%E5%BD%93%E6%B6%88%E5%85%83%E6%B3%95/19969775)\n",
    "> \n",
    "> 这里采用最朴素的解法就好（采取说法二），毕竟我们的最终目的只是解方程而已\n",
    "\n",
    "<!-- 数学公式 -->\n",
    "\n",
    "$$\n",
    "\\begin{cases}\n",
    "3x_1 + 2x_2 + 5x_3 = 6 \\\\\n",
    "-x_1 + 4x_2 + 3x_3 = 5 \\\\\n",
    "x_1 - x_2 + 3x_3 = 1\n",
    "\\end{cases}\n",
    "$$\n",
    "\n",
    "\n",
    "对于上面的例子，我们可以将其转化为增广矩阵：\n",
    "\n",
    "$$\n",
    "\\begin{bmatrix}\n",
    "3 & 2 & 5 & 6 \\\\\n",
    "-1 & 4 & 3 & 5 \\\\\n",
    "1 & -1 & 3 & 1\n",
    "\\end{bmatrix}\n",
    "$$\n",
    "\n",
    "然后进行初等行变换，得到：\n",
    "\n",
    "$$\n",
    "\\begin{bmatrix}\n",
    "3 & 2 & 5 & 6 \\\\\n",
    "0 & 14 & 14 & 21 \\\\\n",
    "0 & 5 & -4 & 3\n",
    "\\end{bmatrix}\n",
    "\\dots \\text{第一步} \\\\\n",
    "$$\n",
    "\n",
    "$$\n",
    "\\begin{bmatrix}\n",
    "3 & 2 & 5 & 6 \\\\\n",
    "0 & 14 & 14 & 21 \\\\\n",
    "0 & 0 & 2 & 1\n",
    "\\end{bmatrix}\n",
    "\\dots \\text{第二步}\\\\\n",
    "$$\n",
    "\n",
    "最后利用回代法求解，得到：\n",
    "\n",
    "$$\n",
    "\\begin{cases}\n",
    "x_3 = \\frac{1}{2} \\\\\n",
    "x_2 = \\frac{21 - 14 * x_3}{14} \\\\\n",
    "x_1 = \\frac{6 - 2 * x_2 - 5 * x_3}{3} \\\\\n",
    "\\end{cases}\n",
    "\\Rightarrow\n",
    "\\begin{cases}\n",
    "x_3 = 0.5 \\\\\n",
    "x_2 = 1     \\\\\n",
    "x_1 = 0.5   \\\\\n",
    "\\end{cases}\n",
    "$$\n"
   ]
  },
  {
   "cell_type": "code",
   "execution_count": 68,
   "metadata": {},
   "outputs": [
    {
     "data": {
      "text/plain": [
       "array([0.5, 1. , 0.5])"
      ]
     },
     "execution_count": 68,
     "metadata": {},
     "output_type": "execute_result"
    }
   ],
   "source": [
    "import numpy as np\n",
    "\n",
    "# 高斯消去法\n",
    "def gaussElimination(A, b):\n",
    "    n = len(b)\n",
    "    # 前進消去\n",
    "    for k in range(0, n-1):  # 举例第一列 k = 0\n",
    "        factor = A[k, k] / A[k+1:, k] # 求出之后每一行的系数\n",
    "        A[k+1:, :] = A[k, :] - factor[:,np.newaxis] * A[k+1:, :]  #更新之后每一行 np.newaxis的作用是增加一个维度 (2,1)\n",
    "        b[k+1:] = b[k, :] - factor[:,np.newaxis] * b[k+1:, :]  #更新之后每一行的b\n",
    "\n",
    "    # 回代\n",
    "    x = np.zeros(n)\n",
    "    x[n-1] = b[n-1] / A[n-1, n-1]\n",
    "    for k in range(n-2, -1, -1):\n",
    "        x[k] = (b[k] - np.dot(A[k, k+1:], x[k+1:])) / A[k, k]\n",
    "    return x\n",
    "\n",
    "A = np.array([[3, 2, 5], [-1, 4, 3], [1, -1, 3]], dtype=float)\n",
    "b = np.array([[6, 5, 1]], dtype=float)\n",
    "b = b.T\n",
    "gaussElimination(A, b)"
   ]
  },
  {
   "cell_type": "markdown",
   "metadata": {},
   "source": [
    "随机测试一个方程组\n",
    "\n",
    "<!-- 数学公式 -->\n",
    "\n",
    "$$\n",
    "\\begin{cases}\n",
    "-23x_1 + 11x_2 + x_3 = 0 \\\\\n",
    "11x_1 - 3x_2 - 2x_3 = 3 \\\\\n",
    "x_1 - 2x_2 + 2x_3 = -1\n",
    "\\end{cases}\n",
    "$$\n"
   ]
  },
  {
   "cell_type": "code",
   "execution_count": 69,
   "metadata": {},
   "outputs": [
    {
     "data": {
      "text/plain": [
       "array([1., 2., 1.])"
      ]
     },
     "execution_count": 69,
     "metadata": {},
     "output_type": "execute_result"
    }
   ],
   "source": [
    "A1 = np.array([[-23, 11 , 1], [11, -3, -2], [1, -2, 2]], dtype=float)\n",
    "b1 = np.array([[0, 3, -1]], dtype=float)\n",
    "b1 = b1.T\n",
    "gaussElimination(A1, b1)"
   ]
  },
  {
   "cell_type": "markdown",
   "metadata": {},
   "source": [
    "### 逐步求解代码如下"
   ]
  },
  {
   "cell_type": "code",
   "execution_count": 64,
   "metadata": {},
   "outputs": [],
   "source": [
    "A = np.array([[3, 2, 5], [-1, 4, 3], [1, -1, 3]], dtype=float)\n",
    "b = np.array([[6, 5, 1]], dtype=float)\n",
    "# 装置b\n",
    "b = b.T\n",
    "tmp_f=A[0,0]/A[1:,0] # [-3.  3.]\n",
    "A[1:,:] = A[0,:] - tmp_f[:,np.newaxis] * A[1:,:] # A = [[ 3.  2.  5.][ 0.  14.  14.][ 0.  5.  -4.]]\n",
    "b[1:,:] = b[0,:] - tmp_f[:,np.newaxis] * b[1:,:] # b = [[ 6.][ 21.][ 3.]]"
   ]
  },
  {
   "cell_type": "code",
   "execution_count": 65,
   "metadata": {},
   "outputs": [],
   "source": [
    "tmp_f1=A[1,1]/A[2:,1]\n",
    "A[2:,:] = A[1,:] - tmp_f1[:,np.newaxis] * A[2:,:] # A = [[ 3.  2.  5.][ 0.  14.  14.][ 0.  0.  25.2]]\n",
    "b[2:,:] = b[1,:] - tmp_f1[:,np.newaxis] * b[2:,:] # b = [[ 6.][ 21.][ 12.6]]"
   ]
  },
  {
   "cell_type": "code",
   "execution_count": 66,
   "metadata": {},
   "outputs": [
    {
     "name": "stdout",
     "output_type": "stream",
     "text": [
      "[[0.5]\n",
      " [1. ]\n",
      " [0.5]]\n"
     ]
    }
   ],
   "source": [
    "# 回代\n",
    "x = np.zeros((3,1))\n",
    "x[2,0] = b[2,0]/A[2,2] # x = [[ 0.][ 0.][ 0.5]]\n",
    "x[1,0] = (b[1,0] - A[1,2]*x[2,0])/A[1,1] # x = [[ 0.][ 1.][ 0.5]]\n",
    "x[0,0] = (b[0,0] - A[0,1]*x[1,0] - A[0,2]*x[2,0])/A[0,0] # x = [[ 0.5][ 1.][ 0.5]]\n",
    "print(x)"
   ]
  },
  {
   "cell_type": "code",
   "execution_count": 44,
   "metadata": {},
   "outputs": [
    {
     "name": "stdout",
     "output_type": "stream",
     "text": [
      "25.2\n",
      "12.600000000000001\n",
      "0.5000000000000001\n"
     ]
    }
   ],
   "source": [
    "print((-4)*(-2.8) + 14)\n",
    "tmpa = (-4)*(-2.8) + 14\n",
    "print(3*(-2.8) + 21)\n",
    "tmpb = 3*(-2.8) + 21\n",
    "print(tmpb/tmpa)"
   ]
  },
  {
   "cell_type": "markdown",
   "metadata": {},
   "source": [
    "### 所需前置numpy索引的知识"
   ]
  },
  {
   "cell_type": "code",
   "execution_count": 4,
   "metadata": {},
   "outputs": [],
   "source": [
    "# demo 重新理解numpy的一些操作\n",
    "import numpy as np\n",
    "A = np.array([[3, 2, 5], [-1, 4, 3], [1, -1, 3]])"
   ]
  },
  {
   "cell_type": "code",
   "execution_count": 12,
   "metadata": {},
   "outputs": [
    {
     "name": "stdout",
     "output_type": "stream",
     "text": [
      "2\n",
      "()\n",
      "0\n",
      "1\n",
      "int32\n",
      "4\n",
      "4\n",
      "[[ 3  2]\n",
      " [-1  4]]\n",
      "(2, 2)\n",
      "4\n",
      "2\n",
      "int32\n",
      "4\n",
      "16\n"
     ]
    }
   ],
   "source": [
    "# 学习\n",
    "print(A[0, 1]) # 第一个参数是行，第二个参数是列\n",
    "print(A[0, 1].shape) # ()\n",
    "print(A[0, 1].size) # 1\n",
    "print(A[0, 1].ndim) # 0\n",
    "print(A[0, 1].dtype) # int32\n",
    "print(A[0, 1].itemsize) # 4\n",
    "print(A[0, 1].nbytes) # 4\n",
    "\n",
    "print(A[0:2, 0:2]) # 第一个参数是行，第二个参数是列，这里是取前两行，前两列 [[3 2] [-1 4]]\n",
    "print(A[0:2, 0:2].shape) # shape是一个元组，表示矩阵的行数和列数 (2, 2)\n",
    "print(A[0:2, 0:2].size) # size是一个整数，表示矩阵的元素个数 4\n",
    "print(A[0:2, 0:2].ndim) # ndim是一个整数，表示矩阵的维数 2\n",
    "print(A[0:2, 0:2].dtype) # dtype是一个对象，表示矩阵的数据类型 int32\n",
    "print(A[0:2, 0:2].itemsize) # itemsize是一个整数，表示矩阵中每个元素的字节数 4\n",
    "print(A[0:2, 0:2].nbytes) # nbytes是一个整数，表示矩阵中所有元素的字节数 16\n",
    "\n"
   ]
  },
  {
   "cell_type": "markdown",
   "metadata": {},
   "source": [
    "## 例2\n",
    "\n",
    "$$\n",
    "\\begin{cases}\n",
    "3x_1 - x_2 + 4x_3 = 7 \\\\\n",
    "-x_1 + 2x_2 - 2x_3 = -1 \\\\\n",
    "2x_1 - 3x_2 - 2x_3 = 0\n",
    "\\end{cases}\n",
    "$$\n",
    "\n",
    "## 普通解法\n",
    "\n",
    "代码如下：\n",
    "\n",
    "```python\n",
    "import numpy as np\n",
    "A = np.array([[3, -1, 4], [-1, 2, -2], [2, -3, -2]])\n",
    "b = np.array([7, -1, 0])\n",
    "x = np.linalg.solve(A, b)\n",
    "print(x)\n",
    "```"
   ]
  },
  {
   "cell_type": "code",
   "execution_count": 70,
   "metadata": {},
   "outputs": [
    {
     "name": "stdout",
     "output_type": "stream",
     "text": [
      "[2.  1.  0.5]\n"
     ]
    }
   ],
   "source": [
    "# 普通解法先确定结果\n",
    "import numpy as np\n",
    "A = np.array([[3, -1, 4], [-1, 2, -2], [2, -3, -2]])\n",
    "b = np.array([7, -1, 0])\n",
    "x = np.linalg.solve(A, b)\n",
    "print(x)"
   ]
  },
  {
   "cell_type": "code",
   "execution_count": 72,
   "metadata": {},
   "outputs": [
    {
     "data": {
      "text/plain": [
       "array([2. , 1. , 0.5])"
      ]
     },
     "execution_count": 72,
     "metadata": {},
     "output_type": "execute_result"
    }
   ],
   "source": [
    "# 高斯若儿当消元法验证\n",
    "import numpy as np\n",
    "A = np.array([[3, -1, 4], [-1, 2, -2], [2, -3, -2]], dtype=float)\n",
    "b = np.array([[7, -1, 0]], dtype=float)\n",
    "b = b.T\n",
    "gaussElimination(A, b)"
   ]
  },
  {
   "cell_type": "markdown",
   "metadata": {},
   "source": [
    "## 高斯消元法与克劳特消元法（Gauss and Crout）\n",
    "\n",
    "<!-- 数学公式 -->\n",
    "\n",
    "$$\n",
    "\\begin{cases}\n",
    "3x_1 - x_2 + 4x_3 = 7 \\\\\n",
    "-x_1 + 2x_2 - 2x_3 = -1 \\\\\n",
    "2x_1 - 3x_2 - 2x_3 = 0\n",
    "\\end{cases}\n",
    "$$\n",
    "\n",
    "相比于高斯消元法，克劳特消元法的基本思想其实也差不多，前者是保证L矩阵的对角线元素为1，而后者是保证U矩阵的对角线元素为1。\n",
    "\n",
    "对于上面的例子，我们可以将其转化为增广矩阵：\n",
    "\n",
    "$$\n",
    "\\begin{bmatrix}\n",
    "3 & -1 & 4 & 7 \\\\\n",
    "-1 & 2 & -2 & -1 \\\\\n",
    "2 & -3 & -2 & 0\n",
    "\\end{bmatrix}\n",
    "$$\n",
    "\n",
    "\n",
    "> 对于为什么要进行LU分解，一开始自己也不是很理解，但其实就是将方程组转化为两个方程组，然后分别求解，最后再合并，这样就可以避免矩阵的逆运算，从而提高计算效率。\n",
    "\n",
    "这里权当复习整理数值分析里的知识，重新写一下LU分解的过程。"
   ]
  },
  {
   "cell_type": "markdown",
   "metadata": {},
   "source": [
    "### 高斯消元法\n",
    "\n",
    "我们实际上是将$AX = B$中的$A$分解为$LU$，其中$U$是一个上三角矩阵，$L$是一个下三角矩阵，$L$的对角线元素都是1，\n",
    "\n",
    "$$\n",
    "A = LU\n",
    "$$\n",
    "\n",
    "$$\n",
    "\\begin{bmatrix}\n",
    "3 & -1 & 4 \\\\\n",
    "-1 & 2 & -2 \\\\\n",
    "2 & -3 & -2\n",
    "\\end{bmatrix}\n",
    "=\n",
    "\\begin{bmatrix}\n",
    "1 & 0 & 0 \\\\\n",
    "-\\frac{1}{3} & 1 & 0 \\\\\n",
    "\\frac{2}{3} & -1.4 & 1\n",
    "\\end{bmatrix}\n",
    "\\begin{bmatrix}\n",
    "3 & -1 & 4 \\\\\n",
    "0 & \\frac{5}{3} & -\\frac{2}{3} \\\\\n",
    "0 & 0 & -5.6\n",
    "\\end{bmatrix}\n",
    "$$\n",
    "\n"
   ]
  },
  {
   "cell_type": "code",
   "execution_count": 11,
   "metadata": {},
   "outputs": [],
   "source": [
    "import numpy as np\n",
    "A = np.array([[3, -1, 4], [-1, 2, -2], [2, -3, -2]], dtype=float)\n",
    "b = np.array([[7, -1, 0]], dtype=float)\n",
    "b = b.T"
   ]
  },
  {
   "cell_type": "code",
   "execution_count": 12,
   "metadata": {},
   "outputs": [
    {
     "name": "stdout",
     "output_type": "stream",
     "text": [
      "LU分解：\n",
      "A = LU\n",
      "L = \n",
      "[[ 1.          0.          0.        ]\n",
      " [-0.33333333  1.          0.        ]\n",
      " [ 0.66666667 -1.4         1.        ]]\n",
      "其中我们有：Ly = b，解得\n",
      "y = \n",
      "[[ 7.        ]\n",
      " [ 1.33333333]\n",
      " [-2.8       ]]\n",
      "U = \n",
      "[[ 3.         -1.          4.        ]\n",
      " [ 0.          1.66666667 -0.66666667]\n",
      " [ 0.          0.         -5.6       ]]\n",
      "其中我们有：Ux = y，解得\n",
      "x = \n",
      "[[2. ]\n",
      " [1. ]\n",
      " [0.5]]\n"
     ]
    }
   ],
   "source": [
    "# 高斯消元法\n",
    "def gauss(A, b,isprint = True):\n",
    "    n = A.shape[0]\n",
    "    L = np.zeros((n, n))\n",
    "    U = np.zeros((n, n))\n",
    "    for i in range(n):\n",
    "        L[i, i] = 1\n",
    "        for j in range(i, n):\n",
    "            U[i, j] = A[i, j] - L[i, :i] @ U[:i, j] # @表示矩阵乘法\n",
    "        for j in range(i, n):\n",
    "            L[j, i] = (A[j, i] - L[j, :i] @ U[:i, i])/U[i, i]\n",
    "    y = np.linalg.solve(L, b)\n",
    "    x = np.linalg.solve(U, y)\n",
    "    if isprint:\n",
    "        # 输出解方程的过程\n",
    "        print(\"LU分解：\")\n",
    "        print(\"A = LU\")\n",
    "        print(\"L = \")\n",
    "        print(L)\n",
    "        print(\"其中我们有：Ly = b，解得\")\n",
    "        print(\"y = \")\n",
    "        print(y)\n",
    "        print(\"U = \")\n",
    "        print(U)\n",
    "        print(\"其中我们有：Ux = y，解得\")\n",
    "        print(\"x = \")\n",
    "        print(x)\n",
    "    return x\n",
    "\n",
    "x = gauss(A, b)"
   ]
  },
  {
   "cell_type": "markdown",
   "metadata": {},
   "source": [
    "### 克劳特消元法\n"
   ]
  },
  {
   "cell_type": "code",
   "execution_count": 1,
   "metadata": {},
   "outputs": [],
   "source": [
    "import numpy as np\n",
    "A = np.array([[3, -1, 4], [-1, 2, -2], [2, -3, -2]], dtype=float)\n",
    "b = np.array([[7, -1, 0]], dtype=float)\n",
    "b = b.T"
   ]
  },
  {
   "cell_type": "code",
   "execution_count": 4,
   "metadata": {},
   "outputs": [
    {
     "name": "stdout",
     "output_type": "stream",
     "text": [
      "LU分解：\n",
      "A = LU\n",
      "L = \n",
      "[[ 3.          0.          0.        ]\n",
      " [-1.          1.66666667  0.        ]\n",
      " [ 2.         -2.33333333 -5.6       ]]\n",
      "其中我们有：Ly = b，解得\n",
      "y = \n",
      "[[2.33333333]\n",
      " [0.8       ]\n",
      " [0.5       ]]\n",
      "U = \n",
      "[[ 1.         -0.33333333  1.33333333]\n",
      " [ 0.          1.         -0.4       ]\n",
      " [ 0.          0.          1.        ]]\n",
      "其中我们有：Ux = y，解得\n",
      "x = \n",
      "[[2. ]\n",
      " [1. ]\n",
      " [0.5]]\n"
     ]
    }
   ],
   "source": [
    "def crout(A, b,isprint = True):\n",
    "    n = A.shape[0]\n",
    "    L = np.zeros((n, n))\n",
    "    U = np.zeros((n, n))\n",
    "    for i in range(n):\n",
    "        L[i, i] = A[i, i] - L[i, :i] @ U[:i, i]\n",
    "        for j in range(i, n):\n",
    "            U[i, j] = (A[i, j] - L[i, :i] @ U[:i, j])/L[i, i]\n",
    "        for j in range(i, n):\n",
    "            L[j, i] = (A[j, i] - L[j, :i] @ U[:i, i])\n",
    "    y = np.linalg.solve(L, b)\n",
    "    x = np.linalg.solve(U, y)\n",
    "    if isprint:\n",
    "        # 输出解方程的过程\n",
    "        print(\"LU分解：\")\n",
    "        print(\"A = LU\")\n",
    "        print(\"L = \")\n",
    "        print(L)\n",
    "        print(\"其中我们有：Ly = b，解得\")\n",
    "        print(\"y = \")\n",
    "        print(y)\n",
    "        print(\"U = \")\n",
    "        print(U)\n",
    "        print(\"其中我们有：Ux = y，解得\")\n",
    "        print(\"x = \")\n",
    "        print(x)\n",
    "    return x\n",
    "\n",
    "x = crout(A, b)"
   ]
  },
  {
   "cell_type": "markdown",
   "metadata": {},
   "source": [
    "### 补充LU分解知识"
   ]
  },
  {
   "cell_type": "markdown",
   "metadata": {},
   "source": [
    "#### LU分解\n",
    "\n",
    "设有线性方程组\n",
    "\n",
    "$$\n",
    "Ax = b\n",
    "$$\n",
    "\n",
    "其中，$A$为$n \\times n$的矩阵，$b$为$n$维列向量，$x$为$n$维列向量。举个具体例子：\n",
    "\n",
    "$$\n",
    "\\begin{cases}\n",
    "a_{11}x_1 + a_{12}x_2 +  a_{13}x_3 = b_1 \\\\\n",
    "a_{21}x_1 + a_{22}x_2 +  a_{23}x_3 = b_2 \\\\\n",
    "a_{31}x_1 + a_{32}x_2 +  a_{33}x_3 = b_3\n",
    "\\end{cases}\n",
    "$$\n",
    "\n",
    "其中，$a_{ij}$为矩阵$A$的元素，$b_i$为列向量$b$的元素，$x_i$为列向量$x$的元素。也即：\n",
    "\n",
    "$$\n",
    "\\begin{bmatrix}\n",
    "a_{11} & a_{12} & a_{13} \\\\\n",
    "a_{21} & a_{22} & a_{23} \\\\\n",
    "a_{31} & a_{32} & a_{33}\n",
    "\\end{bmatrix}\n",
    "\\begin{bmatrix}\n",
    "x_1 \\\\\n",
    "x_2 \\\\\n",
    "x_3\n",
    "\\end{bmatrix}\n",
    "=\n",
    "\\begin{bmatrix}\n",
    "b_1 \\\\\n",
    "b_2 \\\\\n",
    "b_3\n",
    "\\end{bmatrix}\n",
    "$$\n",
    "\n",
    "首先，对于第一个方程，我们选取一个常数$l_{11}$遍除第一行，得到：\n",
    "\n",
    "$$\n",
    "\\frac{a_{11}}{l_{11}}x_1 + \\frac{a_{12}}{l_{11}}x_2 +  \\frac{a_{13}}{l_{11}}x_3 = \\frac{b_1}{l_{11}}\n",
    "$$\n",
    "\n",
    "对于上式，我们令\n",
    "\n",
    "$$\n",
    "\\begin{bmatrix}\n",
    "\\frac{a_{11}}{l_{11}} & \\frac{a_{12}}{l_{11}} & \\frac{a_{13}}{l_{11}} \\\\\n",
    "\\end{bmatrix}\n",
    "\\begin{bmatrix}\n",
    "x_1 \\\\\n",
    "x_2 \\\\\n",
    "x_3\n",
    "\\end{bmatrix}\n",
    "=\n",
    "\\begin{bmatrix}\n",
    "\\frac{b_1}{l_{11}} \\\\\n",
    "\\end{bmatrix}\n",
    "\\\\ \\Rightarrow\n",
    "\\begin{bmatrix}\n",
    "u_{11} & u_{12} & u_{13} \\\\\n",
    "\\end{bmatrix}\n",
    "\\begin{bmatrix}\n",
    "x_1 \\\\\n",
    "x_2 \\\\\n",
    "x_3\n",
    "\\end{bmatrix}\n",
    "=\n",
    "\\begin{bmatrix}\n",
    "y_1 \\\\\n",
    "\\end{bmatrix}\n",
    "$$\n",
    "\n",
    "其中，$u_{ij}$为矩阵$U$的元素，$y_i$为列向量$y$的元素(待会也会求解它)。\n",
    "\n",
    "接下来，我们对第二个方程和第三个方程进行第一步的消元，令$l_{21} = \\frac{a_{21}}{u_{11}} \\quad l_{31} = \\frac{a_{31}}{u_{11}}$\n",
    "\n",
    "$$\n",
    "\\begin{bmatrix}\n",
    "a_{21} & a_{22} & a_{23} & b_2 \\\\\n",
    "a_{31} & a_{32} & a_{33} & b_3\n",
    "\\end{bmatrix}\n",
    "-\n",
    "\\begin{bmatrix}\n",
    "l_{21} \\\\\n",
    "l_{31} \n",
    "\\end{bmatrix}\n",
    "\\begin{bmatrix}\n",
    "u_{11} & u_{12} & u_{13} & y_1 \\\\\n",
    "\\end{bmatrix}\n",
    "=\n",
    "\\begin{bmatrix}\n",
    "0 & a_{22} - l_{21}u_{12} & a_{23} - l_{21}u_{13} & b_2 - l_{21}y_1 \\\\\n",
    "0 & a_{32} - l_{31}u_{12} & a_{33} - l_{31}u_{13} & b_3 - l_{31}y_1\n",
    "\\end{bmatrix}\n",
    "$$\n",
    "\n",
    "> 注意：\n",
    "> - 这里的$y_1$是减去上面求解的$y_1$即可\n",
    "> - 另外上面可以看到一个很有趣的地方，就是l和u的下标，比如$a_{23} - l_{21}u_{13}$把$l_{21}u_{13}$中的1去掉我们就得到了$a_{23}$的下标，这刚好又是我们当前操作元素的位置；\n",
    "\n",
    "对于等式右边的矩阵（我们重新写成方程的形式，下面对它继续进行消元工作），\n",
    "\n",
    "$$\n",
    "\\begin{cases}\n",
    "(a_{22} - l_{21}u_{12})x_2 + (a_{23} - l_{21}u_{13})x_3 = b_2 - l_{21}y_1 \\\\\n",
    "(a_{32} - l_{31}u_{12})x_2 + (a_{33} - l_{31}u_{13})x_3 = b_3 - l_{31}y_1\n",
    "\\end{cases}\n",
    "$$\n",
    "\n",
    "\n",
    "我们选取第二个常数$l_{22}$遍除第一行，得到：\n",
    "\n",
    "$$\n",
    "\\begin{bmatrix}\n",
    "0 & \\frac{a_{22} - l_{21}u_{12}}{l_{22}} & \\frac{a_{23} - l_{21}u_{13}}{l_{22}}\\\\\n",
    "\\end{bmatrix}\n",
    "\\begin{bmatrix}\n",
    "x_1 \\\\\n",
    "x_2 \\\\\n",
    "x_3\n",
    "\\end{bmatrix}\n",
    "=\n",
    "\\begin{bmatrix}\n",
    "\\frac{b_2 - l_{21}y_1}{l_{22}} \\\\\n",
    "\\end{bmatrix}\n",
    "\\\\ \\Rightarrow\n",
    "\\begin{bmatrix}\n",
    "0 & u_{22} & u_{23} \\\\\n",
    "\\end{bmatrix}\n",
    "\\begin{bmatrix}\n",
    "x_1 \\\\\n",
    "x_2 \\\\\n",
    "x_3\n",
    "\\end{bmatrix}\n",
    "=\n",
    "\\begin{bmatrix}\n",
    "y_2 \\\\\n",
    "\\end{bmatrix}\n",
    "$$\n",
    "\n",
    "继续对第三个方程进行消元，令$l_{32} = \\frac{a_{32} - l_{31}u_{12}}{u_{22}}$\n",
    "\n",
    "$$\n",
    "\\begin{align}\n",
    "    &\\begin{bmatrix}\n",
    "    0 & a_{32} - l_{31}u_{12} & a_{33} - l_{31}u_{13} & b_3 - l_{31}y_1\n",
    "    \\end{bmatrix}\n",
    "    -\n",
    "    \\begin{bmatrix}\n",
    "    l_{32}\n",
    "    \\end{bmatrix}\n",
    "    \\begin{bmatrix}\n",
    "    0 & u_{22} & u_{23} & y_2\n",
    "    \\end{bmatrix}\\\\\n",
    "    =\n",
    "    &\\begin{bmatrix}\n",
    "    0 & 0 & a_{33} - l_{31}u_{13} - l_{32}u_{23} & b_3 - l_{31}y_1 - l_{32}y_2\n",
    "    \\end{bmatrix}\n",
    "\\end{align}\n",
    "$$\n",
    "\n",
    "对于等式右边的矩阵，我们选取第三个常数$l_{33}$遍除第一行，最终得到：\n",
    "\n",
    "$$\n",
    "\\begin{bmatrix}\n",
    "0 & 0 & \\frac{a_{33} - l_{31}u_{13} - l_{32}u_{23}}{l_{33}}\\\\\n",
    "\\end{bmatrix}\n",
    "\\begin{bmatrix}\n",
    "x_1 \\\\\n",
    "x_2 \\\\\n",
    "x_3\n",
    "\\end{bmatrix}\n",
    "=\n",
    "\\begin{bmatrix}\n",
    "\\frac{b_3 - l_{31}y_1 - l_{32}y_2}{l_{33}} \\\\\n",
    "\\end{bmatrix}\n",
    "\\\\ \\Rightarrow\n",
    "\\begin{bmatrix}\n",
    "0 & 0 & u_{33} \\\\\n",
    "\\end{bmatrix}\n",
    "\\begin{bmatrix}\n",
    "x_1 \\\\\n",
    "x_2 \\\\\n",
    "x_3\n",
    "\\end{bmatrix}\n",
    "=\n",
    "\\begin{bmatrix}\n",
    "y_3 \\\\\n",
    "\\end{bmatrix}\n",
    "$$\n",
    "\n",
    "至此，我们按照消元的一定顺序步骤，得到了$u$和$l$矩阵，也得到了如下的方程组（矩阵形式）：\n",
    "\n",
    "\n",
    "$$\n",
    "\\begin{bmatrix}\n",
    "a_{11} & a_{12} & a_{13} \\\\\n",
    "a_{21} & a_{22} & a_{23} \\\\\n",
    "a_{31} & a_{32} & a_{33}\n",
    "\\end{bmatrix}\n",
    "\\begin{bmatrix}\n",
    "x_1 \\\\\n",
    "x_2 \\\\\n",
    "x_3\n",
    "\\end{bmatrix}\n",
    "=\n",
    "\\begin{bmatrix} \n",
    "b_1 \\\\\n",
    "b_2 \\\\\n",
    "b_3\n",
    "\\end{bmatrix}\n",
    "\\\\ \\Rightarrow\n",
    "\\begin{bmatrix}\n",
    "l_{11} & 0 & 0 \\\\\n",
    "l_{21} & l_{22} & 0 \\\\\n",
    "l_{31} & l_{32} & l_{33}\n",
    "\\end{bmatrix}\n",
    "\\begin{bmatrix}\n",
    "u_{11} & u_{12} & u_{13} \\\\\n",
    "0 & u_{22} & u_{23} \\\\\n",
    "0 & 0 & u_{33}\n",
    "\\end{bmatrix}\n",
    "\\begin{bmatrix}\n",
    "x_1 \\\\\n",
    "x_2 \\\\\n",
    "x_3\n",
    "\\end{bmatrix}\n",
    "=\n",
    "\\begin{bmatrix}\n",
    "b_1 \\\\\n",
    "b_2 \\\\\n",
    "b_3\n",
    "\\end{bmatrix}\n",
    "\\\\ \\Rightarrow\n",
    "\\begin{bmatrix}\n",
    "l_{11} & 0 & 0 \\\\\n",
    "l_{21} & l_{22} & 0 \\\\\n",
    "l_{31} & l_{32} & l_{33}\n",
    "\\end{bmatrix}\n",
    "\\begin{bmatrix}\n",
    "y_1 \\\\\n",
    "y_2 \\\\\n",
    "y_3\n",
    "\\end{bmatrix}\n",
    "=\n",
    "\\begin{bmatrix}\n",
    "b_1 \\\\\n",
    "b_2 \\\\\n",
    "b_3\n",
    "\\end{bmatrix}\n",
    "\\quad\n",
    "\\begin{bmatrix}\n",
    "u_{11} & u_{12} & u_{13} \\\\\n",
    "0 & u_{22} & u_{23} \\\\\n",
    "0 & 0 & u_{33}\n",
    "\\end{bmatrix}\n",
    "\\begin{bmatrix}\n",
    "x_1 \\\\\n",
    "x_2 \\\\\n",
    "x_3\n",
    "\\end{bmatrix}\n",
    "=\n",
    "\\begin{bmatrix}\n",
    "y_1 \\\\\n",
    "y_2 \\\\\n",
    "y_3\n",
    "\\end{bmatrix}\n",
    "\\\\\n",
    "$$\n",
    "\n",
    "简洁起见，我们统一将$u$矩阵记为$U$，将$l$矩阵记为$L$，则上述解方程的过程可以写为：\n",
    "\n",
    "$$\n",
    "Ax = b\n",
    "\\\\ \\Rightarrow\n",
    "LUx = b\n",
    "\\\\ \\Rightarrow\n",
    "Ly = b \\quad \\text{（回代法解出y）}\n",
    "\\\\ \\Rightarrow\n",
    "Ux = y \\quad \\text{（回代法解出x）}\n",
    "$$\n",
    "\n",
    "#### 代码实现"
   ]
  },
  {
   "cell_type": "code",
   "execution_count": 6,
   "metadata": {},
   "outputs": [],
   "source": [
    "import numpy as np\n",
    "\n",
    "def lu_decomposition(A):\n",
    "    \"\"\"\n",
    "    LU分解\n",
    "    :param A: 矩阵\n",
    "    :return: L, U\n",
    "    \"\"\"\n",
    "    n = A.shape[0]\n",
    "    L = np.zeros((n, n))\n",
    "    U = np.zeros((n, n))\n",
    "    for i in range(n):\n",
    "        for j in range(i, n):\n",
    "            U[i, j] = A[i, j] - np.dot(L[i, :i], U[:i, j])\n",
    "        for j in range(i, n):\n",
    "            if i == j:\n",
    "                L[i, i] = 1 # 这里的选定将决定是高斯消元法还是克劳特消元法\n",
    "            else:\n",
    "                L[j, i] = (A[j, i] - np.dot(L[j, :i], U[:i, i])) / U[i, i]\n",
    "    return L, U\n",
    "\n",
    "def forward_substitution(L, b):\n",
    "    \"\"\"\n",
    "    前代法求解Ly = b\n",
    "    :param L: 下三角矩阵\n",
    "    :param b: 常数向量\n",
    "    :return: y\n",
    "    \"\"\"\n",
    "    n = L.shape[0]\n",
    "    y = np.zeros(n)\n",
    "    for i in range(n):\n",
    "        y[i] = (b[i] - np.dot(L[i, :i], y[:i])) / L[i, i]\n",
    "    return y\n",
    "\n",
    "def backward_substitution(U, y):\n",
    "    \"\"\"\n",
    "    回代法求解Ux = y\n",
    "    :param U: 上三角矩阵\n",
    "    :param y: 常数向量\n",
    "    :return: x\n",
    "    \"\"\"\n",
    "    n = U.shape[0]\n",
    "    x = np.zeros(n)\n",
    "    for i in range(n - 1, -1, -1):\n",
    "        x[i] = (y[i] - np.dot(U[i, i + 1:], x[i + 1:])) / U[i, i]\n",
    "    return x\n",
    "\n",
    "def solve(A, b):\n",
    "    \"\"\"\n",
    "    求解Ax = b\n",
    "    :param A: 矩阵\n",
    "    :param b: 常数向量\n",
    "    :return: x\n",
    "    \"\"\"\n",
    "    L, U = lu_decomposition(A)\n",
    "    y = forward_substitution(L, b)\n",
    "    x = backward_substitution(U, y)\n",
    "    return x\n"
   ]
  },
  {
   "cell_type": "markdown",
   "metadata": {},
   "source": [
    "#### 测试代码"
   ]
  },
  {
   "cell_type": "code",
   "execution_count": 27,
   "metadata": {},
   "outputs": [],
   "source": [
    "A = np.array([[3, -1, 4], [-1, 2, -2], [2, -3, -2]], dtype=float)\n",
    "b = np.array([7, -1, 0], dtype=float) # 注意：这里的b是一维数组，如果要写成矩阵形式即二维向量，需要转置一下"
   ]
  },
  {
   "cell_type": "code",
   "execution_count": 28,
   "metadata": {},
   "outputs": [
    {
     "data": {
      "text/plain": [
       "(array([[ 1.        ,  0.        ,  0.        ],\n",
       "        [-0.33333333,  1.        ,  0.        ],\n",
       "        [ 0.66666667, -1.4       ,  1.        ]]),\n",
       " array([[ 3.        , -1.        ,  4.        ],\n",
       "        [ 0.        ,  1.66666667, -0.66666667],\n",
       "        [ 0.        ,  0.        , -5.6       ]]))"
      ]
     },
     "execution_count": 28,
     "metadata": {},
     "output_type": "execute_result"
    }
   ],
   "source": [
    "lu_decomposition(A)"
   ]
  },
  {
   "cell_type": "code",
   "execution_count": 29,
   "metadata": {},
   "outputs": [
    {
     "name": "stdout",
     "output_type": "stream",
     "text": [
      "[2.  1.  0.5]\n"
     ]
    }
   ],
   "source": [
    "# b = b.T\n",
    "x = solve(A, b)\n",
    "print(x)"
   ]
  },
  {
   "cell_type": "code",
   "execution_count": 31,
   "metadata": {},
   "outputs": [
    {
     "name": "stdout",
     "output_type": "stream",
     "text": [
      "[[ 1.          0.          0.        ]\n",
      " [-0.33333333  1.          0.        ]\n",
      " [ 0.33333333 -0.35714286  1.        ]]\n",
      "[[3.         2.         5.        ]\n",
      " [0.         4.66666667 4.66666667]\n",
      " [0.         0.         3.        ]]\n",
      "[6.  7.  1.5]\n",
      "[0.5 1.  0.5]\n"
     ]
    }
   ],
   "source": [
    "A = np.array([[3, 2, 5], [-1, 4, 3], [1, -1, 3]])\n",
    "b = np.array([6, 5, 1])\n",
    "L,U = lu_decomposition(A)\n",
    "print(L)\n",
    "print(U)\n",
    "y = forward_substitution(L, b)\n",
    "print(y)\n",
    "x = backward_substitution(U, y)\n",
    "print(x)"
   ]
  },
  {
   "cell_type": "code",
   "execution_count": 32,
   "metadata": {},
   "outputs": [
    {
     "data": {
      "text/plain": [
       "-0.35714285714285715"
      ]
     },
     "execution_count": 32,
     "metadata": {},
     "output_type": "execute_result"
    }
   ],
   "source": [
    "-5/14"
   ]
  },
  {
   "cell_type": "markdown",
   "metadata": {},
   "source": [
    "#### 小结\n",
    "\n",
    "##### LU分解\n",
    "\n",
    "总而言之，LU分解的过程就是将方程组$Ax = b$转化为$LUx = b$的过程，其中$U$是上三角矩阵，$L$是下三角矩阵。\n",
    "\n",
    "我们逐步完成这个过程的同时也逐渐实现了消元的目的，整个过程简洁如下：\n",
    "\n",
    "- 自己选定$l_{ii}$这个常数，若 $l_{ii} = 1$那么我们就是用高斯消元法，若$l_{ii} = a_{ii} - \\sum_{k=1}^{i-1}l_{ik}u_{ki}$则我们就是用克劳特消元法，\n",
    "\n",
    "- 其他的常数都是通过消元得到的，如：\n",
    "\n",
    "$$\n",
    "\\begin{align}\n",
    "l_{ij} &= \\frac{a_{ij} - \\sum_{k=1}^{i-1}l_{ik}u_{kj}}{u_{ii}}\\\\\n",
    "u_{ij} &= \\frac{a_{ij} - \\sum_{k=1}^{i-1}l_{ik}u_{kj}}{l_{ii}}\\\\\n",
    "\\end{align}\n",
    "$$\n",
    "\n",
    "LU分解的主要部分写成代码就是这七行：\n",
    "\n",
    "```python\n",
    "for i in range(n):\n",
    "    # L[i, i] = A[i, i] - L[i, :i] @ U[:i, i] 克劳特消元法\n",
    "    L[i, i] = 1 # 高斯消元法\n",
    "    for j in range(i, n):\n",
    "        U[i, j] = (A[i, j] - L[i, :i] @ U[:i, j])/L[i, i]\n",
    "    for j in range(i, n):\n",
    "        L[j, i] = (A[j, i] - L[j, :i] @ U[:i, i])/U[i, i]\n",
    "```\n",
    "\n",
    "##### 回代法\n",
    "\n",
    "回代其实就非常简单了\n",
    "\n",
    "$$\n",
    "\\begin{align}\n",
    "y_i &= \\frac{b_i - \\sum_{k=1}^{i-1}l_{ik}y_k}{l_{ii}}\\\\\n",
    "x_i &= \\frac{y_i - \\sum_{k=i+1}^{n}u_{ik}x_k}{u_{ii}}\\\\\n",
    "\\end{align}\n",
    "$$\n",
    "\n",
    "回代法的主要部分写成代码就是这四行：\n",
    "\n",
    "```python\n",
    "for i in range(n):\n",
    "    y[i] = (b[i] - L[i, :i] @ y[:i])/L[i, i]\n",
    "for i in range(n-1, -1, -1):\n",
    "    x[i] = (y[i] - U[i, i+1:] @ x[i+1:])/U[i, i]\n",
    "```\n",
    "\n",
    "> 注：上面出现过的@符号是矩阵乘法的符号，是python3.5之后才支持的，如果你的python版本低于3.5，可以使用np.dot()代替。"
   ]
  },
  {
   "cell_type": "markdown",
   "metadata": {},
   "source": [
    "## 例3\n",
    "\n",
    "$$\n",
    "\\begin{cases}\n",
    "3x_1 - x_2 + 2x_3 = 7 \\\\\n",
    "-x_1 + 2x_2 - 2x_3 = -1 \\\\\n",
    "2x_1 - 2x_2 + 4x_3 = 0\n",
    "\\end{cases}\n",
    "$$\n",
    "\n",
    "## 普通解法\n"
   ]
  },
  {
   "cell_type": "code",
   "execution_count": 8,
   "metadata": {},
   "outputs": [
    {
     "name": "stdout",
     "output_type": "stream",
     "text": [
      "[ 3.5  -1.   -2.25]\n"
     ]
    }
   ],
   "source": [
    "import numpy as np\n",
    "A = np.array([\n",
    "    [3, -1, 2], \n",
    "    [-1, 2, -2], \n",
    "    [2, -2, 4]\n",
    "    ])\n",
    "b = np.array([\n",
    "    7, -1, 0\n",
    "    ])\n",
    "x = np.linalg.solve(A, b)\n",
    "print(x)"
   ]
  },
  {
   "cell_type": "markdown",
   "metadata": {},
   "source": [
    "## 平方根法(Cholesky decomposition)\n",
    "\n",
    "当A是一个对称正定矩阵，我们在选取$l_{ii}$的值时就可以做一些对称的操作，比如直接令$l_{ii} = u_{ii}$，这样就可以减少一些计算量。\n",
    "\n",
    "在平方根法中，我们选取$l_{ii} = \\sqrt{a_{ii} - \\sum_{k=1}^{i-1}l_{ik}^2}$作为$l_{ii}$，这样我们就可以将$A$分解为$LL^T$，其中$U = L^T$。\n",
    "\n",
    "$$\n",
    "\\begin{align}\n",
    "A &= LL^T\\\\\n",
    "A &= \\begin{bmatrix}\n",
    "l_{11} & 0 & 0 \\\\\n",
    "l_{21} & l_{22} & 0 \\\\\n",
    "l_{31} & l_{32} & l_{33}\n",
    "\\end{bmatrix}\n",
    "\\begin{bmatrix}\n",
    "l_{11} & l_{21} & l_{31} \\\\\n",
    "0 & l_{22} & l_{32} \\\\\n",
    "0 & 0 & l_{33}\n",
    "\\end{bmatrix}\\\\\n",
    "&= \\begin{bmatrix}\n",
    "l_{11}^2 & l_{11}l_{21} & l_{11}l_{31} \\\\\n",
    "l_{21}l_{11} & l_{21}^2 + l_{22}^2 & l_{21}l_{31} + l_{22}l_{32} \\\\\n",
    "l_{31}l_{11} & l_{31}l_{21} + l_{32}l_{22} & l_{31}^2 + l_{32}^2 + l_{33}^2\n",
    "\\end{bmatrix}\\\\\n",
    "\\end{align}\n",
    "$$\n",
    "\n",
    "### 代码实现\n"
   ]
  },
  {
   "cell_type": "code",
   "execution_count": 17,
   "metadata": {},
   "outputs": [],
   "source": [
    "def cholesky(A):\n",
    "    n = A.shape[0]\n",
    "    L = np.zeros((n, n))\n",
    "    for i in range(n):\n",
    "        L[i, i] = np.sqrt(A[i, i] - L[i, :i] @ L[i, :i])\n",
    "        for j in range(i+1, n):\n",
    "            L[j, i] = (A[j, i] - L[j, :i] @ L[i, :i])/L[i, i]\n",
    "    return L"
   ]
  },
  {
   "cell_type": "markdown",
   "metadata": {},
   "source": [
    "### 测试代码"
   ]
  },
  {
   "cell_type": "code",
   "execution_count": 21,
   "metadata": {},
   "outputs": [
    {
     "data": {
      "text/plain": [
       "array([[ 1.73205081,  0.        ,  0.        ],\n",
       "       [-0.57735027,  1.29099445,  0.        ],\n",
       "       [ 1.15470054, -1.03279556,  1.26491106]])"
      ]
     },
     "execution_count": 21,
     "metadata": {},
     "output_type": "execute_result"
    }
   ],
   "source": [
    "A = np.array([\n",
    "    [3, -1, 2], \n",
    "    [-1, 2, -2], \n",
    "    [2, -2, 4]\n",
    "    ])\n",
    "cholesky(A)"
   ]
  },
  {
   "cell_type": "code",
   "execution_count": 27,
   "metadata": {},
   "outputs": [
    {
     "name": "stdout",
     "output_type": "stream",
     "text": [
      "[ 4.04145188  1.03279556 -2.84604989]\n",
      "[ 3.5  -1.   -2.25]\n"
     ]
    }
   ],
   "source": [
    "b = np.array([\n",
    "    7, -1, 0\n",
    "    ])\n",
    "L = cholesky(A)\n",
    "y = np.linalg.solve(L, b)\n",
    "print(y)\n",
    "x = np.linalg.solve(L.T, y)\n",
    "print(x)"
   ]
  },
  {
   "cell_type": "markdown",
   "metadata": {},
   "source": [
    "### 补充numpy中矩阵的一系列自带函数"
   ]
  },
  {
   "cell_type": "code",
   "execution_count": null,
   "metadata": {},
   "outputs": [],
   "source": [
    "import numpy as np\n",
    "A = np.array([\n",
    "    [3, -1, 2], \n",
    "    [-1, 2, -2], \n",
    "    [2, -2, 4]\n",
    "    ])\n",
    "# 求A的转置\n",
    "print(A.T)\n",
    "'''\n",
    "[[ 3 -1  2]\n",
    " [-1  2 -2]\n",
    " [ 2 -2  4]]\n",
    " '''\n",
    "# 求A的逆矩阵 \n",
    "A_inv = np.linalg.inv(A)\n",
    "print(A_inv)\n",
    "'''\n",
    "[[ 0.5    0.    -0.25 ]\n",
    " [ 0.     1.     0.5  ]\n",
    " [-0.25   0.5    0.625]]\n",
    "'''\n",
    "# 求A的行列式\n",
    "A_det = np.linalg.det(A)\n",
    "print(A_det)\n",
    "'''\n",
    "8.000000000000002\n",
    "'''\n",
    "# 求A的特征值和特征向量\n",
    "A_eig = np.linalg.eig(A)\n",
    "print(A_eig)\n",
    "'''\n",
    "(array([6.61185871, 1.65867531, 0.72946598]), \n",
    "array([[ 0.52548211, -0.83393758, -0.16857242],\n",
    "       [-0.43184431, -0.43214537,  0.7916823 ],\n",
    "       [ 0.73306142,  0.34321785,  0.58721586]]))\n",
    "'''\n",
    "# 求A的秩\n",
    "A_rank = np.linalg.matrix_rank(A)\n",
    "print(A_rank) # 3\n",
    "# 求A的范数\n",
    "A_norm = np.linalg.norm(A)\n",
    "print(A_norm) # 6.855654600401044\n",
    "# 求A的条件数\n",
    "A_cond = np.linalg.cond(A)\n",
    "print(A_cond) # 9.063971310181588\n",
    "# 求A的奇异值分解\n",
    "A_svd = np.linalg.svd(A)\n",
    "print(A_svd)\n",
    "'''\n",
    "(array([\n",
    "    [-0.52548211, -0.83393758, -0.16857242],\n",
    "    [ 0.43184431, -0.43214537,  0.7916823 ],\n",
    "    [-0.73306142,  0.34321785,  0.58721586]\n",
    "    ]), \n",
    " array([6.61185871, 1.65867531, 0.72946598]), \n",
    " array([\n",
    "    [-0.52548211,  0.43184431, -0.73306142],\n",
    "    [-0.83393758, -0.43214537,  0.34321785],\n",
    "    [-0.16857242,  0.7916823 ,  0.58721586]\n",
    "    ]))\n",
    "'''\n",
    "# 求A的QR分解\n",
    "A_qr = np.linalg.qr(A)\n",
    "print(A_qr)\n",
    "'''\n",
    "(\n",
    "array([[-0.80178373, -0.5179324 , -0.2981424 ],\n",
    "       [ 0.26726124, -0.75697812,  0.59628479],\n",
    "       [-0.53452248,  0.39840954,  0.74535599]]), \n",
    "array([[-3.74165739,  2.40535118, -4.27617987],\n",
    "       [ 0.        , -1.79284291,  2.07172959],\n",
    "       [ 0.        ,  0.        ,  1.19256959]])\n",
    ")\n",
    "'''"
   ]
  },
  {
   "cell_type": "markdown",
   "metadata": {},
   "source": [
    "## 总结"
   ]
  },
  {
   "cell_type": "markdown",
   "metadata": {},
   "source": [
    "在数值分析这门课中的解线性方程组的直接法，个人认为掌握LU分解一个点就够了；平方根法的话，如果你的矩阵是对称正定的，那么可以考虑使用平方根法，因为它的计算量比LU分解小很多。\n",
    "\n",
    "此外，我们还学习了其它的解方程的直接法，比如列主元素法，全主元素法，个人觉得这些方法都是在高斯消元法的基础上做了一些优化，所以我就不再赘述了。（因为优化程度不太大，只是选取一个最优的参数来给$l_{ii}$操作而已）\n",
    "\n",
    "还有针对特殊的矩阵，比如对称矩阵，我们还可以使用平方根法，这个方法在上面已经有所介绍了。针对三对角矩阵，我们可以使用Thomas算法（课本写作追赶法），但还是那句话，都是在高斯消元法的基础上做了一些优化而已；\n",
    "\n",
    "下一章我们将学习迭代法来求解线性方程组。"
   ]
  },
  {
   "cell_type": "markdown",
   "metadata": {},
   "source": [
    "### 一些测试"
   ]
  },
  {
   "cell_type": "code",
   "execution_count": 34,
   "metadata": {},
   "outputs": [
    {
     "name": "stdout",
     "output_type": "stream",
     "text": [
      "[ 0.22727273  0.45454545 -0.31818182 -1.09090909]\n"
     ]
    }
   ],
   "source": [
    "A = np.array([\n",
    "    [2, -1, 0, 0],\n",
    "    [-1, 2, -1, 0],\n",
    "    [0, -1, 2, -1],\n",
    "    [0, 0, -1, -2]\n",
    "    ])\n",
    "b = np.array([\n",
    "    0, 1, 0, 2.5\n",
    "    ])\n",
    "# 求解线性方程组\n",
    "x = np.linalg.solve(A, b)\n",
    "print(x) "
   ]
  },
  {
   "cell_type": "code",
   "execution_count": 35,
   "metadata": {},
   "outputs": [
    {
     "data": {
      "text/plain": [
       "(array([[ 1.        ,  0.        ,  0.        ,  0.        ],\n",
       "        [-0.5       ,  1.        ,  0.        ,  0.        ],\n",
       "        [ 0.        , -0.66666667,  1.        ,  0.        ],\n",
       "        [ 0.        ,  0.        , -0.75      ,  1.        ]]),\n",
       " array([[ 2.        , -1.        ,  0.        ,  0.        ],\n",
       "        [ 0.        ,  1.5       , -1.        ,  0.        ],\n",
       "        [ 0.        ,  0.        ,  1.33333333, -1.        ],\n",
       "        [ 0.        ,  0.        ,  0.        , -2.75      ]]))"
      ]
     },
     "execution_count": 35,
     "metadata": {},
     "output_type": "execute_result"
    }
   ],
   "source": [
    "lu_decomposition(A)"
   ]
  },
  {
   "cell_type": "code",
   "execution_count": 36,
   "metadata": {},
   "outputs": [
    {
     "data": {
      "text/plain": [
       "array([ 0.22727273,  0.45454545, -0.31818182, -1.09090909])"
      ]
     },
     "execution_count": 36,
     "metadata": {},
     "output_type": "execute_result"
    }
   ],
   "source": [
    "tmp = np.array([\n",
    "    [2, -1, 0, 0],\n",
    "    [0,1.5, -1, 0],\n",
    "    [0, 0, 4/3, -1],\n",
    "    [0, 0, 0, -2.75]\n",
    "    ])\n",
    "tmpy = np.array([\n",
    "    0, 1, 2/3, 3\n",
    "    ])\n",
    "np.linalg.solve(tmp, tmpy)"
   ]
  }
 ],
 "metadata": {
  "kernelspec": {
   "display_name": "Python 3 (ipykernel)",
   "language": "python",
   "name": "python3"
  },
  "language_info": {
   "codemirror_mode": {
    "name": "ipython",
    "version": 3
   },
   "file_extension": ".py",
   "mimetype": "text/x-python",
   "name": "python",
   "nbconvert_exporter": "python",
   "pygments_lexer": "ipython3",
   "version": "3.9.7"
  },
  "vscode": {
   "interpreter": {
    "hash": "5179d32cf6ec497baf3f8a3ef987cc77c5d2dc691fdde20a56316522f61a7323"
   }
  }
 },
 "nbformat": 4,
 "nbformat_minor": 2
}
